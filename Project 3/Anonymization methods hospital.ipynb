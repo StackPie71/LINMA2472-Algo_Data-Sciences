{
 "cells": [
  {
   "cell_type": "markdown",
   "metadata": {},
   "source": [
    "# Anonymization: Balancing the use of data in aggregate with protecting people’s privacy\n",
    "\n",
    "## Pseudonymization: The removal of direct identifiers\n",
    "1. We want a deterministic function (same inputs are always mapped to same\n",
    "outputs).\n",
    "2. We want the possible outputs to all have the same length (for simplicity)\n",
    "3. We want collisions to be very unlikely (impossible is too much to ask).\n",
    "4. We want a function that is fast to compute (i.e. for any input it’s easy to\n",
    "compute its output, for simplicity).\n",
    "5. We want a function that is computationally infeasible to invert (i.e. for anyoutput it’s hard to compute its input). A one-way function.\n",
    "\n",
    "These are what a “cryptographic hash function” does (when we say “hash\n",
    "function” in this class we mean cryptographic hash function)."
   ]
  },
  {
   "cell_type": "markdown",
   "metadata": {},
   "source": [
    "### hash function\n",
    "h(k) = ⎣m (k a –⎣k a⎦)⎦\n",
    "with k the input and a and m constant.\n",
    "\n",
    "https://docs.python.org/3/library/hashlib.html"
   ]
  },
  {
   "cell_type": "code",
   "execution_count": 4,
   "metadata": {},
   "outputs": [
    {
     "name": "stdout",
     "output_type": "stream",
     "text": [
      "Collecting zipcodes\n",
      "  Downloading zipcodes-1.1.2-py2.py3-none-any.whl (717 kB)\n",
      "Installing collected packages: zipcodes\n",
      "Successfully installed zipcodes-1.1.2\n"
     ]
    }
   ],
   "source": [
    "import pandas as pd\n",
    "import numpy as np\n",
    "import matplotlib.pyplot as plt \n",
    "import zipcodes\n",
    "from pprint import pprint \n",
    "\n",
    "\n",
    "from hashlib import blake2b\n",
    "from hashlib import md5"
   ]
  },
  {
   "cell_type": "code",
   "execution_count": 5,
   "metadata": {},
   "outputs": [
    {
     "data": {
      "text/plain": [
       "'6ff843ba685842aa82031d3f53c48b66326df7639a63d128974c5c14f31a0f33343a8c65551134ed1ae0f2b0dd2bb495dc81039e3eeb0aa1bb0388bbeac29183'"
      ]
     },
     "execution_count": 5,
     "metadata": {},
     "output_type": "execute_result"
    }
   ],
   "source": [
    "# blake2b is a fast hash function with the possibility to add salt directly inside de call of the function\n",
    "h = blake2b()\n",
    "h.update(b'Hello world')\n",
    "h.hexdigest()"
   ]
  },
  {
   "cell_type": "code",
   "execution_count": 6,
   "metadata": {},
   "outputs": [],
   "source": [
    "# Fonctione présenté dans les slides du cours\n",
    "def create_lookup_table(N):\n",
    "    table = {}\n",
    "    for id in range(10**N):\n",
    "        h = md5(str(id).encode()).hexdigest()\n",
    "        table[h] = id\n",
    "    return table"
   ]
  },
  {
   "cell_type": "code",
   "execution_count": 7,
   "metadata": {},
   "outputs": [
    {
     "data": {
      "text/plain": [
       "{'cfcd208495d565ef66e7dff9f98764da': 0,\n",
       " 'c4ca4238a0b923820dcc509a6f75849b': 1,\n",
       " 'c81e728d9d4c2f636f067f89cc14862c': 2,\n",
       " 'eccbc87e4b5ce2fe28308fd9f2a7baf3': 3,\n",
       " 'a87ff679a2f3e71d9181a67b7542122c': 4,\n",
       " 'e4da3b7fbbce2345d7772b0674a318d5': 5,\n",
       " '1679091c5a880faf6fb5e6087eb1b2dc': 6,\n",
       " '8f14e45fceea167a5a36dedd4bea2543': 7,\n",
       " 'c9f0f895fb98ab9159f51fd0297e236d': 8,\n",
       " '45c48cce2e2d7fbdea1afc51c7c6ad26': 9}"
      ]
     },
     "execution_count": 7,
     "metadata": {},
     "output_type": "execute_result"
    }
   ],
   "source": [
    "create_lookup_table(1)"
   ]
  },
  {
   "cell_type": "code",
   "execution_count": 8,
   "metadata": {},
   "outputs": [],
   "source": [
    "data = pd.read_csv(\"dataset.csv\")\n",
    "ids = data.head(10)[\"id\"]"
   ]
  },
  {
   "cell_type": "code",
   "execution_count": 9,
   "metadata": {},
   "outputs": [
    {
     "data": {
      "text/plain": [
       "{'Amelia Morrow': 'd2847521058786f0977d871e1d28dd3e19f26295bbcced0ba4eafb64e5940c42',\n",
       " 'Lillian Cole': '3cf0d9de236313f2e3136ba18e046ada469a986f6828b5e46888289d289e30a8',\n",
       " 'Lillian Simpson': '365218d17c0b0b4dc25d11c663cd1fdcbed5d080189682fda24006737d4fc3f5',\n",
       " 'Avery Richards': '480bb709ee3709a1c42eb0d9de89f626594d72265e101bf326a03072c3f47e7c',\n",
       " 'Sophia Alvarado': '261cd6318baf3f76475f207219a18059a32696e991600135308ea97cc99c1a91',\n",
       " 'Maxwell Brock': 'd0cc541cc86a0b1487bc3dfee87e6bbaa8e4fc400c7bfa33227ea18c0fe3321a',\n",
       " 'Taylor Harris': 'fd9b0997993b227858b8f04160891ec7e6d6b48e3df3bca463adb9f3bbfe37ed',\n",
       " 'Declan Gomez': 'd8d5de53a2c20fd26235024469b57060ae2d160d3f9f5b5fe5584f1916c1dd43',\n",
       " 'Connor Lynch': '305120f0526abbd042b5d184e0acbb53170aaafe140785183834b07bf7b79cb5',\n",
       " 'Aurora Cole': '96ad4b0348f7d1346a61040a61b755329926e4ab580e186f061e2bd4f4885c21'}"
      ]
     },
     "execution_count": 9,
     "metadata": {},
     "output_type": "execute_result"
    }
   ],
   "source": [
    "# J'ai essayé la fonction sur notre data set, ça a l'air pas mal ! \n",
    "h = blake2b(digest_size=32, salt=b'LINMA2472')\n",
    "table = {}\n",
    "for id in ids:\n",
    "    id_byte = bytes(id, encoding='utf8')\n",
    "    h.update(id_byte)\n",
    "    table[id] = h.hexdigest()\n",
    "table"
   ]
  },
  {
   "cell_type": "code",
   "execution_count": 10,
   "metadata": {},
   "outputs": [],
   "source": [
    "def hash_ids(ids, salt=b'azerty', digest_size=32):\n",
    "    \"\"\"\n",
    "    Function that return a list of 'hashed' ids\n",
    "    Input : ids = list of string to hash\n",
    "    salt=b'azerty' by default, max length=16 bytes\n",
    "    digest_size=32 by default, max size = 64\n",
    "    \"\"\"\n",
    "    h = blake2b(digest_size=digest_size, salt=salt)\n",
    "    ids_hashed = []\n",
    "    for id in ids:\n",
    "        id_byte = bytes(id, encoding='utf8')\n",
    "        h.update(id_byte)\n",
    "        ids_hashed.append(h.hexdigest())\n",
    "    return ids_hashed"
   ]
  },
  {
   "cell_type": "code",
   "execution_count": 11,
   "metadata": {},
   "outputs": [],
   "source": [
    "data = pd.read_csv(\"dataset.csv\")\n",
    "ids = data[\"id\"]\n",
    "hashed_ids = hash_ids(ids)\n",
    "data[\"id\"] = hashed_ids"
   ]
  },
  {
   "cell_type": "code",
   "execution_count": 12,
   "metadata": {},
   "outputs": [
    {
     "data": {
      "text/html": [
       "<div>\n",
       "<style scoped>\n",
       "    .dataframe tbody tr th:only-of-type {\n",
       "        vertical-align: middle;\n",
       "    }\n",
       "\n",
       "    .dataframe tbody tr th {\n",
       "        vertical-align: top;\n",
       "    }\n",
       "\n",
       "    .dataframe thead th {\n",
       "        text-align: right;\n",
       "    }\n",
       "</style>\n",
       "<table border=\"1\" class=\"dataframe\">\n",
       "  <thead>\n",
       "    <tr style=\"text-align: right;\">\n",
       "      <th></th>\n",
       "      <th>id</th>\n",
       "      <th>gender</th>\n",
       "      <th>dob</th>\n",
       "      <th>zipcode</th>\n",
       "      <th>education</th>\n",
       "      <th>employment</th>\n",
       "      <th>children</th>\n",
       "      <th>marital_status</th>\n",
       "      <th>ancestry</th>\n",
       "      <th>number_vehicles</th>\n",
       "      <th>commute_time</th>\n",
       "      <th>accommodation</th>\n",
       "      <th>disease</th>\n",
       "    </tr>\n",
       "  </thead>\n",
       "  <tbody>\n",
       "    <tr>\n",
       "      <th>0</th>\n",
       "      <td>768d1a5f81d78235ef9ada30815bf0c2c87b26ae5a1ac5...</td>\n",
       "      <td>female</td>\n",
       "      <td>12/1950</td>\n",
       "      <td>26904</td>\n",
       "      <td>High School</td>\n",
       "      <td>Retired</td>\n",
       "      <td>2</td>\n",
       "      <td>married</td>\n",
       "      <td>Africa</td>\n",
       "      <td>2</td>\n",
       "      <td>0.0</td>\n",
       "      <td>Own house</td>\n",
       "      <td>Alzheimer's disease</td>\n",
       "    </tr>\n",
       "    <tr>\n",
       "      <th>1</th>\n",
       "      <td>6c78ed178ed6ca5114c297973fbfaedd1b23300887fb45...</td>\n",
       "      <td>female</td>\n",
       "      <td>4/1940</td>\n",
       "      <td>78088</td>\n",
       "      <td>PhD/md</td>\n",
       "      <td>Retired</td>\n",
       "      <td>1</td>\n",
       "      <td>married</td>\n",
       "      <td>Africa</td>\n",
       "      <td>1</td>\n",
       "      <td>0.0</td>\n",
       "      <td>Rent flat</td>\n",
       "      <td>multiple sclerosis</td>\n",
       "    </tr>\n",
       "    <tr>\n",
       "      <th>2</th>\n",
       "      <td>cb21208609092da5322fdbdb6a3e26018500afa8f16cb4...</td>\n",
       "      <td>female</td>\n",
       "      <td>12/1966</td>\n",
       "      <td>51502</td>\n",
       "      <td>Bachelor</td>\n",
       "      <td>Employed</td>\n",
       "      <td>1</td>\n",
       "      <td>married</td>\n",
       "      <td>Asia</td>\n",
       "      <td>0</td>\n",
       "      <td>0.1</td>\n",
       "      <td>Rent flat</td>\n",
       "      <td>heart disease</td>\n",
       "    </tr>\n",
       "    <tr>\n",
       "      <th>3</th>\n",
       "      <td>d69531784d3a60fed7c33acd8019b0055038e4e0315a8c...</td>\n",
       "      <td>female</td>\n",
       "      <td>4/1943</td>\n",
       "      <td>54080</td>\n",
       "      <td>Bachelor</td>\n",
       "      <td>Retired</td>\n",
       "      <td>1</td>\n",
       "      <td>married</td>\n",
       "      <td>Africa</td>\n",
       "      <td>0</td>\n",
       "      <td>0.0</td>\n",
       "      <td>Rent room</td>\n",
       "      <td>endometriosis</td>\n",
       "    </tr>\n",
       "    <tr>\n",
       "      <th>4</th>\n",
       "      <td>b083ca5d64492fceebf71428654cfe17ae2e2e740e56ef...</td>\n",
       "      <td>female</td>\n",
       "      <td>10/1947</td>\n",
       "      <td>68785</td>\n",
       "      <td>High School</td>\n",
       "      <td>Retired</td>\n",
       "      <td>1</td>\n",
       "      <td>married</td>\n",
       "      <td>Europe</td>\n",
       "      <td>0</td>\n",
       "      <td>0.0</td>\n",
       "      <td>Rent flat</td>\n",
       "      <td>gastritis</td>\n",
       "    </tr>\n",
       "    <tr>\n",
       "      <th>5</th>\n",
       "      <td>dce43f6f76bba6b938cf2661d41b0881b53ca2fd9b1c0b...</td>\n",
       "      <td>male</td>\n",
       "      <td>10/1933</td>\n",
       "      <td>75966</td>\n",
       "      <td>High School</td>\n",
       "      <td>Retired</td>\n",
       "      <td>2</td>\n",
       "      <td>married</td>\n",
       "      <td>Europe</td>\n",
       "      <td>1</td>\n",
       "      <td>0.0</td>\n",
       "      <td>Own house</td>\n",
       "      <td>endometriosis</td>\n",
       "    </tr>\n",
       "    <tr>\n",
       "      <th>6</th>\n",
       "      <td>2335f565feff86a18b685e3f361d29c33d2e4df9ecc6e5...</td>\n",
       "      <td>female</td>\n",
       "      <td>11/1942</td>\n",
       "      <td>32249</td>\n",
       "      <td>Bachelor</td>\n",
       "      <td>Retired</td>\n",
       "      <td>1</td>\n",
       "      <td>married</td>\n",
       "      <td>Asia</td>\n",
       "      <td>1</td>\n",
       "      <td>0.0</td>\n",
       "      <td>Own house</td>\n",
       "      <td>multiple sclerosis</td>\n",
       "    </tr>\n",
       "    <tr>\n",
       "      <th>7</th>\n",
       "      <td>28efa72f2ba129de0d30d09788e659a5c4a538b649fdbe...</td>\n",
       "      <td>male</td>\n",
       "      <td>12/1958</td>\n",
       "      <td>32582</td>\n",
       "      <td>High School</td>\n",
       "      <td>Retired</td>\n",
       "      <td>4</td>\n",
       "      <td>married</td>\n",
       "      <td>Oceania</td>\n",
       "      <td>1</td>\n",
       "      <td>0.0</td>\n",
       "      <td>Own house</td>\n",
       "      <td>HIV/AIDS</td>\n",
       "    </tr>\n",
       "    <tr>\n",
       "      <th>8</th>\n",
       "      <td>23f5760b824582719c1a84e76826f53e07c3fca2713348...</td>\n",
       "      <td>male</td>\n",
       "      <td>7/1964</td>\n",
       "      <td>96649</td>\n",
       "      <td>Masters</td>\n",
       "      <td>Employed</td>\n",
       "      <td>2</td>\n",
       "      <td>divorced</td>\n",
       "      <td>Africa</td>\n",
       "      <td>1</td>\n",
       "      <td>0.1</td>\n",
       "      <td>Own house</td>\n",
       "      <td>skin cancer</td>\n",
       "    </tr>\n",
       "    <tr>\n",
       "      <th>9</th>\n",
       "      <td>a4815a141d823c02f49c64ba732b14486504cda54a9940...</td>\n",
       "      <td>female</td>\n",
       "      <td>8/1947</td>\n",
       "      <td>93909</td>\n",
       "      <td>PhD/md</td>\n",
       "      <td>Retired</td>\n",
       "      <td>1</td>\n",
       "      <td>widowed</td>\n",
       "      <td>Oceania</td>\n",
       "      <td>1</td>\n",
       "      <td>0.0</td>\n",
       "      <td>Own flat</td>\n",
       "      <td>Alzheimer's disease</td>\n",
       "    </tr>\n",
       "  </tbody>\n",
       "</table>\n",
       "</div>"
      ],
      "text/plain": [
       "                                                  id  gender      dob  \\\n",
       "0  768d1a5f81d78235ef9ada30815bf0c2c87b26ae5a1ac5...  female  12/1950   \n",
       "1  6c78ed178ed6ca5114c297973fbfaedd1b23300887fb45...  female   4/1940   \n",
       "2  cb21208609092da5322fdbdb6a3e26018500afa8f16cb4...  female  12/1966   \n",
       "3  d69531784d3a60fed7c33acd8019b0055038e4e0315a8c...  female   4/1943   \n",
       "4  b083ca5d64492fceebf71428654cfe17ae2e2e740e56ef...  female  10/1947   \n",
       "5  dce43f6f76bba6b938cf2661d41b0881b53ca2fd9b1c0b...    male  10/1933   \n",
       "6  2335f565feff86a18b685e3f361d29c33d2e4df9ecc6e5...  female  11/1942   \n",
       "7  28efa72f2ba129de0d30d09788e659a5c4a538b649fdbe...    male  12/1958   \n",
       "8  23f5760b824582719c1a84e76826f53e07c3fca2713348...    male   7/1964   \n",
       "9  a4815a141d823c02f49c64ba732b14486504cda54a9940...  female   8/1947   \n",
       "\n",
       "   zipcode    education employment  children marital_status ancestry  \\\n",
       "0    26904  High School    Retired         2        married   Africa   \n",
       "1    78088       PhD/md    Retired         1        married   Africa   \n",
       "2    51502     Bachelor   Employed         1        married     Asia   \n",
       "3    54080     Bachelor    Retired         1        married   Africa   \n",
       "4    68785  High School    Retired         1        married   Europe   \n",
       "5    75966  High School    Retired         2        married   Europe   \n",
       "6    32249     Bachelor    Retired         1        married     Asia   \n",
       "7    32582  High School    Retired         4        married  Oceania   \n",
       "8    96649      Masters   Employed         2       divorced   Africa   \n",
       "9    93909       PhD/md    Retired         1        widowed  Oceania   \n",
       "\n",
       "   number_vehicles  commute_time accommodation              disease  \n",
       "0                2           0.0     Own house  Alzheimer's disease  \n",
       "1                1           0.0     Rent flat   multiple sclerosis  \n",
       "2                0           0.1     Rent flat        heart disease  \n",
       "3                0           0.0     Rent room        endometriosis  \n",
       "4                0           0.0     Rent flat            gastritis  \n",
       "5                1           0.0     Own house        endometriosis  \n",
       "6                1           0.0     Own house   multiple sclerosis  \n",
       "7                1           0.0     Own house             HIV/AIDS  \n",
       "8                1           0.1     Own house          skin cancer  \n",
       "9                1           0.0      Own flat  Alzheimer's disease  "
      ]
     },
     "execution_count": 12,
     "metadata": {},
     "output_type": "execute_result"
    }
   ],
   "source": [
    "data.head(10)"
   ]
  },
  {
   "cell_type": "code",
   "execution_count": 13,
   "metadata": {},
   "outputs": [
    {
     "data": {
      "text/html": [
       "<div>\n",
       "<style scoped>\n",
       "    .dataframe tbody tr th:only-of-type {\n",
       "        vertical-align: middle;\n",
       "    }\n",
       "\n",
       "    .dataframe tbody tr th {\n",
       "        vertical-align: top;\n",
       "    }\n",
       "\n",
       "    .dataframe thead th {\n",
       "        text-align: right;\n",
       "    }\n",
       "</style>\n",
       "<table border=\"1\" class=\"dataframe\">\n",
       "  <thead>\n",
       "    <tr style=\"text-align: right;\">\n",
       "      <th></th>\n",
       "      <th>id</th>\n",
       "      <th>gender</th>\n",
       "      <th>dob</th>\n",
       "      <th>zipcode</th>\n",
       "      <th>disease</th>\n",
       "      <th>ancestry</th>\n",
       "    </tr>\n",
       "  </thead>\n",
       "  <tbody>\n",
       "    <tr>\n",
       "      <th>0</th>\n",
       "      <td>768d1a5f81d78235ef9ada30815bf0c2c87b26ae5a1ac5...</td>\n",
       "      <td>female</td>\n",
       "      <td>12/1950</td>\n",
       "      <td>26904</td>\n",
       "      <td>Alzheimer's disease</td>\n",
       "      <td>Africa</td>\n",
       "    </tr>\n",
       "  </tbody>\n",
       "</table>\n",
       "</div>"
      ],
      "text/plain": [
       "                                                  id  gender      dob  \\\n",
       "0  768d1a5f81d78235ef9ada30815bf0c2c87b26ae5a1ac5...  female  12/1950   \n",
       "\n",
       "   zipcode              disease ancestry  \n",
       "0    26904  Alzheimer's disease   Africa  "
      ]
     },
     "execution_count": 13,
     "metadata": {},
     "output_type": "execute_result"
    }
   ],
   "source": [
    "ds_hospital_creation = data[['id','gender', 'dob','zipcode','disease','ancestry']].copy()\n",
    "ds_hospital_creation.head(1)"
   ]
  },
  {
   "cell_type": "code",
   "execution_count": 14,
   "metadata": {},
   "outputs": [
    {
     "data": {
      "text/html": [
       "<div>\n",
       "<style scoped>\n",
       "    .dataframe tbody tr th:only-of-type {\n",
       "        vertical-align: middle;\n",
       "    }\n",
       "\n",
       "    .dataframe tbody tr th {\n",
       "        vertical-align: top;\n",
       "    }\n",
       "\n",
       "    .dataframe thead th {\n",
       "        text-align: right;\n",
       "    }\n",
       "</style>\n",
       "<table border=\"1\" class=\"dataframe\">\n",
       "  <thead>\n",
       "    <tr style=\"text-align: right;\">\n",
       "      <th></th>\n",
       "      <th>id</th>\n",
       "      <th>gender</th>\n",
       "      <th>dob</th>\n",
       "      <th>disease</th>\n",
       "      <th>ancestry</th>\n",
       "      <th>partial zipcode</th>\n",
       "    </tr>\n",
       "  </thead>\n",
       "  <tbody>\n",
       "    <tr>\n",
       "      <th>0</th>\n",
       "      <td>768d1a5f81d78235ef9ada30815bf0c2c87b26ae5a1ac5...</td>\n",
       "      <td>female</td>\n",
       "      <td>12/1950</td>\n",
       "      <td>Alzheimer's disease</td>\n",
       "      <td>Africa</td>\n",
       "      <td>26***</td>\n",
       "    </tr>\n",
       "  </tbody>\n",
       "</table>\n",
       "</div>"
      ],
      "text/plain": [
       "                                                  id  gender      dob  \\\n",
       "0  768d1a5f81d78235ef9ada30815bf0c2c87b26ae5a1ac5...  female  12/1950   \n",
       "\n",
       "               disease ancestry partial zipcode  \n",
       "0  Alzheimer's disease   Africa           26***  "
      ]
     },
     "execution_count": 14,
     "metadata": {},
     "output_type": "execute_result"
    }
   ],
   "source": [
    "#chunk that reduces the zipcode to a partial zipcode composed by the three first digits of the original zipcode\n",
    "\n",
    "ds_hospital_creation['partial zipcode'] = ds_hospital_creation.zipcode.astype(str).str[:2]\n",
    "\n",
    "ds_hospital_creation.drop(['zipcode'], axis='columns', inplace=True)\n",
    "ds_hospital_creation['partial zipcode'] = ds_hospital_creation['partial zipcode'].astype(str) + '***'\n",
    "\n",
    "ds_hospital_creation.head(1)"
   ]
  },
  {
   "cell_type": "code",
   "execution_count": 15,
   "metadata": {},
   "outputs": [],
   "source": [
    "#chunk qui laisse uniquement l'année de naissance \n",
    "\n",
    "ds_hospital_creation['year of birth'] = ds_hospital_creation['dob'].astype(str).str[-4:]\n"
   ]
  },
  {
   "cell_type": "code",
   "execution_count": 16,
   "metadata": {},
   "outputs": [
    {
     "data": {
      "text/html": [
       "<div>\n",
       "<style scoped>\n",
       "    .dataframe tbody tr th:only-of-type {\n",
       "        vertical-align: middle;\n",
       "    }\n",
       "\n",
       "    .dataframe tbody tr th {\n",
       "        vertical-align: top;\n",
       "    }\n",
       "\n",
       "    .dataframe thead th {\n",
       "        text-align: right;\n",
       "    }\n",
       "</style>\n",
       "<table border=\"1\" class=\"dataframe\">\n",
       "  <thead>\n",
       "    <tr style=\"text-align: right;\">\n",
       "      <th></th>\n",
       "      <th>id</th>\n",
       "      <th>gender</th>\n",
       "      <th>dob</th>\n",
       "      <th>disease</th>\n",
       "      <th>ancestry</th>\n",
       "      <th>partial zipcode</th>\n",
       "      <th>year of birth</th>\n",
       "    </tr>\n",
       "  </thead>\n",
       "  <tbody>\n",
       "    <tr>\n",
       "      <th>0</th>\n",
       "      <td>768d1a5f81d78235ef9ada30815bf0c2c87b26ae5a1ac5...</td>\n",
       "      <td>female</td>\n",
       "      <td>12/1950</td>\n",
       "      <td>Alzheimer's disease</td>\n",
       "      <td>Africa</td>\n",
       "      <td>26***</td>\n",
       "      <td>1950</td>\n",
       "    </tr>\n",
       "    <tr>\n",
       "      <th>1</th>\n",
       "      <td>6c78ed178ed6ca5114c297973fbfaedd1b23300887fb45...</td>\n",
       "      <td>female</td>\n",
       "      <td>4/1940</td>\n",
       "      <td>multiple sclerosis</td>\n",
       "      <td>Africa</td>\n",
       "      <td>78***</td>\n",
       "      <td>1940</td>\n",
       "    </tr>\n",
       "    <tr>\n",
       "      <th>2</th>\n",
       "      <td>cb21208609092da5322fdbdb6a3e26018500afa8f16cb4...</td>\n",
       "      <td>female</td>\n",
       "      <td>12/1966</td>\n",
       "      <td>heart disease</td>\n",
       "      <td>Asia</td>\n",
       "      <td>51***</td>\n",
       "      <td>1966</td>\n",
       "    </tr>\n",
       "    <tr>\n",
       "      <th>3</th>\n",
       "      <td>d69531784d3a60fed7c33acd8019b0055038e4e0315a8c...</td>\n",
       "      <td>female</td>\n",
       "      <td>4/1943</td>\n",
       "      <td>endometriosis</td>\n",
       "      <td>Africa</td>\n",
       "      <td>54***</td>\n",
       "      <td>1943</td>\n",
       "    </tr>\n",
       "    <tr>\n",
       "      <th>4</th>\n",
       "      <td>b083ca5d64492fceebf71428654cfe17ae2e2e740e56ef...</td>\n",
       "      <td>female</td>\n",
       "      <td>10/1947</td>\n",
       "      <td>gastritis</td>\n",
       "      <td>Europe</td>\n",
       "      <td>68***</td>\n",
       "      <td>1947</td>\n",
       "    </tr>\n",
       "  </tbody>\n",
       "</table>\n",
       "</div>"
      ],
      "text/plain": [
       "                                                  id  gender      dob  \\\n",
       "0  768d1a5f81d78235ef9ada30815bf0c2c87b26ae5a1ac5...  female  12/1950   \n",
       "1  6c78ed178ed6ca5114c297973fbfaedd1b23300887fb45...  female   4/1940   \n",
       "2  cb21208609092da5322fdbdb6a3e26018500afa8f16cb4...  female  12/1966   \n",
       "3  d69531784d3a60fed7c33acd8019b0055038e4e0315a8c...  female   4/1943   \n",
       "4  b083ca5d64492fceebf71428654cfe17ae2e2e740e56ef...  female  10/1947   \n",
       "\n",
       "               disease ancestry partial zipcode year of birth  \n",
       "0  Alzheimer's disease   Africa           26***          1950  \n",
       "1   multiple sclerosis   Africa           78***          1940  \n",
       "2        heart disease     Asia           51***          1966  \n",
       "3        endometriosis   Africa           54***          1943  \n",
       "4            gastritis   Europe           68***          1947  "
      ]
     },
     "execution_count": 16,
     "metadata": {},
     "output_type": "execute_result"
    }
   ],
   "source": [
    "ds_hospital_creation.head(5)"
   ]
  },
  {
   "cell_type": "code",
   "execution_count": 17,
   "metadata": {},
   "outputs": [
    {
     "data": {
      "text/plain": [
       "array([[<AxesSubplot:title={'center':'year of birth'}>]], dtype=object)"
      ]
     },
     "execution_count": 17,
     "metadata": {},
     "output_type": "execute_result"
    },
    {
     "data": {
      "image/png": "[encoded data removed]",
      "text/plain": [
       "<Figure size 432x288 with 1 Axes>"
      ]
     },
     "metadata": {
      "needs_background": "light"
     },
     "output_type": "display_data"
    }
   ],
   "source": [
    "#histogramme des années de naissance pour vérifier la répartition\n",
    "ds_hospital_creation['year of birth']=ds_hospital_creation['year of birth'].astype(int)\n",
    "ds_hospital_creation.hist(column=\"year of birth\")"
   ]
  },
  {
   "cell_type": "code",
   "execution_count": 18,
   "metadata": {},
   "outputs": [
    {
     "data": {
      "image/png": "[encoded data removed]",
      "text/plain": [
       "<Figure size 432x288 with 1 Axes>"
      ]
     },
     "metadata": {
      "needs_background": "light"
     },
     "output_type": "display_data"
    }
   ],
   "source": [
    "#Meme chose pour le gender \n",
    "\n",
    "df = pd.DataFrame({'lab':['Male', 'Female'], 'val':[1025, 975]})\n",
    "ax = df.plot.bar(x='lab', y='val', rot=0)"
   ]
  },
  {
   "cell_type": "code",
   "execution_count": 19,
   "metadata": {
    "scrolled": true
   },
   "outputs": [
    {
     "data": {
      "text/html": [
       "<div>\n",
       "<style scoped>\n",
       "    .dataframe tbody tr th:only-of-type {\n",
       "        vertical-align: middle;\n",
       "    }\n",
       "\n",
       "    .dataframe tbody tr th {\n",
       "        vertical-align: top;\n",
       "    }\n",
       "\n",
       "    .dataframe thead th {\n",
       "        text-align: right;\n",
       "    }\n",
       "</style>\n",
       "<table border=\"1\" class=\"dataframe\">\n",
       "  <thead>\n",
       "    <tr style=\"text-align: right;\">\n",
       "      <th></th>\n",
       "      <th>id</th>\n",
       "      <th>gender</th>\n",
       "      <th>disease</th>\n",
       "      <th>ancestry</th>\n",
       "      <th>partial zipcode</th>\n",
       "      <th>year of birth</th>\n",
       "      <th>partial_dob</th>\n",
       "      <th>partial_dob2</th>\n",
       "    </tr>\n",
       "  </thead>\n",
       "  <tbody>\n",
       "    <tr>\n",
       "      <th>0</th>\n",
       "      <td>768d1a5f81d78235ef9ada30815bf0c2c87b26ae5a1ac5...</td>\n",
       "      <td>female</td>\n",
       "      <td>Alzheimer's disease</td>\n",
       "      <td>Africa</td>\n",
       "      <td>26***</td>\n",
       "      <td>1950</td>\n",
       "      <td>12/195</td>\n",
       "      <td>1950 s</td>\n",
       "    </tr>\n",
       "    <tr>\n",
       "      <th>1</th>\n",
       "      <td>6c78ed178ed6ca5114c297973fbfaedd1b23300887fb45...</td>\n",
       "      <td>female</td>\n",
       "      <td>multiple sclerosis</td>\n",
       "      <td>Africa</td>\n",
       "      <td>78***</td>\n",
       "      <td>1940</td>\n",
       "      <td>4/194</td>\n",
       "      <td>1940 s</td>\n",
       "    </tr>\n",
       "    <tr>\n",
       "      <th>2</th>\n",
       "      <td>cb21208609092da5322fdbdb6a3e26018500afa8f16cb4...</td>\n",
       "      <td>female</td>\n",
       "      <td>heart disease</td>\n",
       "      <td>Asia</td>\n",
       "      <td>51***</td>\n",
       "      <td>1966</td>\n",
       "      <td>12/196</td>\n",
       "      <td>1960 s</td>\n",
       "    </tr>\n",
       "    <tr>\n",
       "      <th>3</th>\n",
       "      <td>d69531784d3a60fed7c33acd8019b0055038e4e0315a8c...</td>\n",
       "      <td>female</td>\n",
       "      <td>endometriosis</td>\n",
       "      <td>Africa</td>\n",
       "      <td>54***</td>\n",
       "      <td>1943</td>\n",
       "      <td>4/194</td>\n",
       "      <td>1940 s</td>\n",
       "    </tr>\n",
       "    <tr>\n",
       "      <th>4</th>\n",
       "      <td>b083ca5d64492fceebf71428654cfe17ae2e2e740e56ef...</td>\n",
       "      <td>female</td>\n",
       "      <td>gastritis</td>\n",
       "      <td>Europe</td>\n",
       "      <td>68***</td>\n",
       "      <td>1947</td>\n",
       "      <td>10/194</td>\n",
       "      <td>1940 s</td>\n",
       "    </tr>\n",
       "  </tbody>\n",
       "</table>\n",
       "</div>"
      ],
      "text/plain": [
       "                                                  id  gender  \\\n",
       "0  768d1a5f81d78235ef9ada30815bf0c2c87b26ae5a1ac5...  female   \n",
       "1  6c78ed178ed6ca5114c297973fbfaedd1b23300887fb45...  female   \n",
       "2  cb21208609092da5322fdbdb6a3e26018500afa8f16cb4...  female   \n",
       "3  d69531784d3a60fed7c33acd8019b0055038e4e0315a8c...  female   \n",
       "4  b083ca5d64492fceebf71428654cfe17ae2e2e740e56ef...  female   \n",
       "\n",
       "               disease ancestry partial zipcode  year of birth partial_dob  \\\n",
       "0  Alzheimer's disease   Africa           26***           1950      12/195   \n",
       "1   multiple sclerosis   Africa           78***           1940       4/194   \n",
       "2        heart disease     Asia           51***           1966      12/196   \n",
       "3        endometriosis   Africa           54***           1943       4/194   \n",
       "4            gastritis   Europe           68***           1947      10/194   \n",
       "\n",
       "  partial_dob2  \n",
       "0       1950 s  \n",
       "1       1940 s  \n",
       "2       1960 s  \n",
       "3       1940 s  \n",
       "4       1940 s  "
      ]
     },
     "execution_count": 19,
     "metadata": {},
     "output_type": "execute_result"
    }
   ],
   "source": [
    "#Chunk that transforms date of birth in decade of birth\n",
    "\n",
    "ds_hospital_creation['partial_dob'] = ds_hospital_creation['dob'].astype(str).str[:-1]\n",
    "ds_hospital_creation['partial_dob2'] = ds_hospital_creation['partial_dob'].astype(str).str[-3:]\n",
    "ds_hospital_creation['partial_dob2'] =ds_hospital_creation['partial_dob2'].astype(str) +'0 s'\n",
    "ds_hospital_creation.drop(['dob'], axis='columns', inplace=True)\n",
    "\n",
    "\n",
    "ds_hospital_creation.head(5)\n"
   ]
  },
  {
   "cell_type": "code",
   "execution_count": 20,
   "metadata": {},
   "outputs": [
    {
     "data": {
      "text/html": [
       "<div>\n",
       "<style scoped>\n",
       "    .dataframe tbody tr th:only-of-type {\n",
       "        vertical-align: middle;\n",
       "    }\n",
       "\n",
       "    .dataframe tbody tr th {\n",
       "        vertical-align: top;\n",
       "    }\n",
       "\n",
       "    .dataframe thead th {\n",
       "        text-align: right;\n",
       "    }\n",
       "</style>\n",
       "<table border=\"1\" class=\"dataframe\">\n",
       "  <thead>\n",
       "    <tr style=\"text-align: right;\">\n",
       "      <th></th>\n",
       "      <th>id</th>\n",
       "      <th>gender</th>\n",
       "      <th>disease</th>\n",
       "      <th>ancestry</th>\n",
       "      <th>partial zipcode</th>\n",
       "      <th>year of birth</th>\n",
       "      <th>decade of birth</th>\n",
       "    </tr>\n",
       "  </thead>\n",
       "  <tbody>\n",
       "    <tr>\n",
       "      <th>0</th>\n",
       "      <td>768d1a5f81d78235ef9ada30815bf0c2c87b26ae5a1ac5...</td>\n",
       "      <td>female</td>\n",
       "      <td>Alzheimer's disease</td>\n",
       "      <td>Africa</td>\n",
       "      <td>26***</td>\n",
       "      <td>1950</td>\n",
       "      <td>1950 s</td>\n",
       "    </tr>\n",
       "    <tr>\n",
       "      <th>1</th>\n",
       "      <td>6c78ed178ed6ca5114c297973fbfaedd1b23300887fb45...</td>\n",
       "      <td>female</td>\n",
       "      <td>multiple sclerosis</td>\n",
       "      <td>Africa</td>\n",
       "      <td>78***</td>\n",
       "      <td>1940</td>\n",
       "      <td>1940 s</td>\n",
       "    </tr>\n",
       "    <tr>\n",
       "      <th>2</th>\n",
       "      <td>cb21208609092da5322fdbdb6a3e26018500afa8f16cb4...</td>\n",
       "      <td>female</td>\n",
       "      <td>heart disease</td>\n",
       "      <td>Asia</td>\n",
       "      <td>51***</td>\n",
       "      <td>1966</td>\n",
       "      <td>1960 s</td>\n",
       "    </tr>\n",
       "    <tr>\n",
       "      <th>3</th>\n",
       "      <td>d69531784d3a60fed7c33acd8019b0055038e4e0315a8c...</td>\n",
       "      <td>female</td>\n",
       "      <td>endometriosis</td>\n",
       "      <td>Africa</td>\n",
       "      <td>54***</td>\n",
       "      <td>1943</td>\n",
       "      <td>1940 s</td>\n",
       "    </tr>\n",
       "    <tr>\n",
       "      <th>4</th>\n",
       "      <td>b083ca5d64492fceebf71428654cfe17ae2e2e740e56ef...</td>\n",
       "      <td>female</td>\n",
       "      <td>gastritis</td>\n",
       "      <td>Europe</td>\n",
       "      <td>68***</td>\n",
       "      <td>1947</td>\n",
       "      <td>1940 s</td>\n",
       "    </tr>\n",
       "  </tbody>\n",
       "</table>\n",
       "</div>"
      ],
      "text/plain": [
       "                                                  id  gender  \\\n",
       "0  768d1a5f81d78235ef9ada30815bf0c2c87b26ae5a1ac5...  female   \n",
       "1  6c78ed178ed6ca5114c297973fbfaedd1b23300887fb45...  female   \n",
       "2  cb21208609092da5322fdbdb6a3e26018500afa8f16cb4...  female   \n",
       "3  d69531784d3a60fed7c33acd8019b0055038e4e0315a8c...  female   \n",
       "4  b083ca5d64492fceebf71428654cfe17ae2e2e740e56ef...  female   \n",
       "\n",
       "               disease ancestry partial zipcode  year of birth decade of birth  \n",
       "0  Alzheimer's disease   Africa           26***           1950          1950 s  \n",
       "1   multiple sclerosis   Africa           78***           1940          1940 s  \n",
       "2        heart disease     Asia           51***           1966          1960 s  \n",
       "3        endometriosis   Africa           54***           1943          1940 s  \n",
       "4            gastritis   Europe           68***           1947          1940 s  "
      ]
     },
     "execution_count": 20,
     "metadata": {},
     "output_type": "execute_result"
    }
   ],
   "source": [
    "#Cleaning du dataframe\n",
    "\n",
    "hospital_creation = ds_hospital_creation.rename(columns = {'partial_dob2': 'decade of birth'}, inplace = False)\n",
    "hospital_creation.drop(['partial_dob'],axis='columns',inplace=True)\n",
    "\n",
    "hospital_creation.head()\n",
    "\n"
   ]
  },
  {
   "cell_type": "code",
   "execution_count": 21,
   "metadata": {},
   "outputs": [
    {
     "data": {
      "text/plain": [
       "array([\"Alzheimer's disease\", 'multiple sclerosis', 'heart disease',\n",
       "       'endometriosis', 'gastritis', 'HIV/AIDS', 'skin cancer',\n",
       "       'hypertension', 'breast cancer', 'kidney disease', 'diabetes',\n",
       "       'schizophrenia', 'prostate cancer'], dtype=object)"
      ]
     },
     "execution_count": 21,
     "metadata": {},
     "output_type": "execute_result"
    }
   ],
   "source": [
    "#Chunk pour vérifier les maladies différentes qui sert pas à grand chose \n",
    "\n",
    "hospital_creation.disease.unique()"
   ]
  },
  {
   "cell_type": "code",
   "execution_count": 22,
   "metadata": {},
   "outputs": [
    {
     "data": {
      "text/plain": [
       "90"
      ]
     },
     "execution_count": 22,
     "metadata": {},
     "output_type": "execute_result"
    }
   ],
   "source": [
    "len(hospital_creation['partial zipcode'].unique())"
   ]
  },
  {
   "cell_type": "code",
   "execution_count": 23,
   "metadata": {},
   "outputs": [
    {
     "data": {
      "text/html": [
       "<div>\n",
       "<style scoped>\n",
       "    .dataframe tbody tr th:only-of-type {\n",
       "        vertical-align: middle;\n",
       "    }\n",
       "\n",
       "    .dataframe tbody tr th {\n",
       "        vertical-align: top;\n",
       "    }\n",
       "\n",
       "    .dataframe thead th {\n",
       "        text-align: right;\n",
       "    }\n",
       "</style>\n",
       "<table border=\"1\" class=\"dataframe\">\n",
       "  <thead>\n",
       "    <tr style=\"text-align: right;\">\n",
       "      <th></th>\n",
       "      <th>id</th>\n",
       "      <th>gender</th>\n",
       "      <th>disease</th>\n",
       "      <th>ancestry</th>\n",
       "      <th>partial zipcode</th>\n",
       "      <th>decade of birth</th>\n",
       "    </tr>\n",
       "  </thead>\n",
       "  <tbody>\n",
       "    <tr>\n",
       "      <th>0</th>\n",
       "      <td>768d1a5f81d78235ef9ada30815bf0c2c87b26ae5a1ac5...</td>\n",
       "      <td>female</td>\n",
       "      <td>Alzheimer's disease</td>\n",
       "      <td>Africa</td>\n",
       "      <td>26***</td>\n",
       "      <td>1950 s</td>\n",
       "    </tr>\n",
       "    <tr>\n",
       "      <th>1</th>\n",
       "      <td>6c78ed178ed6ca5114c297973fbfaedd1b23300887fb45...</td>\n",
       "      <td>female</td>\n",
       "      <td>multiple sclerosis</td>\n",
       "      <td>Africa</td>\n",
       "      <td>78***</td>\n",
       "      <td>1940 s</td>\n",
       "    </tr>\n",
       "    <tr>\n",
       "      <th>2</th>\n",
       "      <td>cb21208609092da5322fdbdb6a3e26018500afa8f16cb4...</td>\n",
       "      <td>female</td>\n",
       "      <td>heart disease</td>\n",
       "      <td>Asia</td>\n",
       "      <td>51***</td>\n",
       "      <td>1960 s</td>\n",
       "    </tr>\n",
       "    <tr>\n",
       "      <th>3</th>\n",
       "      <td>d69531784d3a60fed7c33acd8019b0055038e4e0315a8c...</td>\n",
       "      <td>female</td>\n",
       "      <td>endometriosis</td>\n",
       "      <td>Africa</td>\n",
       "      <td>54***</td>\n",
       "      <td>1940 s</td>\n",
       "    </tr>\n",
       "    <tr>\n",
       "      <th>4</th>\n",
       "      <td>b083ca5d64492fceebf71428654cfe17ae2e2e740e56ef...</td>\n",
       "      <td>female</td>\n",
       "      <td>gastritis</td>\n",
       "      <td>Europe</td>\n",
       "      <td>68***</td>\n",
       "      <td>1940 s</td>\n",
       "    </tr>\n",
       "    <tr>\n",
       "      <th>5</th>\n",
       "      <td>dce43f6f76bba6b938cf2661d41b0881b53ca2fd9b1c0b...</td>\n",
       "      <td>male</td>\n",
       "      <td>endometriosis</td>\n",
       "      <td>Europe</td>\n",
       "      <td>75***</td>\n",
       "      <td>1930 s</td>\n",
       "    </tr>\n",
       "    <tr>\n",
       "      <th>6</th>\n",
       "      <td>2335f565feff86a18b685e3f361d29c33d2e4df9ecc6e5...</td>\n",
       "      <td>female</td>\n",
       "      <td>multiple sclerosis</td>\n",
       "      <td>Asia</td>\n",
       "      <td>32***</td>\n",
       "      <td>1940 s</td>\n",
       "    </tr>\n",
       "    <tr>\n",
       "      <th>7</th>\n",
       "      <td>28efa72f2ba129de0d30d09788e659a5c4a538b649fdbe...</td>\n",
       "      <td>male</td>\n",
       "      <td>HIV/AIDS</td>\n",
       "      <td>Oceania</td>\n",
       "      <td>32***</td>\n",
       "      <td>1950 s</td>\n",
       "    </tr>\n",
       "    <tr>\n",
       "      <th>8</th>\n",
       "      <td>23f5760b824582719c1a84e76826f53e07c3fca2713348...</td>\n",
       "      <td>male</td>\n",
       "      <td>skin cancer</td>\n",
       "      <td>Africa</td>\n",
       "      <td>96***</td>\n",
       "      <td>1960 s</td>\n",
       "    </tr>\n",
       "    <tr>\n",
       "      <th>9</th>\n",
       "      <td>a4815a141d823c02f49c64ba732b14486504cda54a9940...</td>\n",
       "      <td>female</td>\n",
       "      <td>Alzheimer's disease</td>\n",
       "      <td>Oceania</td>\n",
       "      <td>93***</td>\n",
       "      <td>1940 s</td>\n",
       "    </tr>\n",
       "  </tbody>\n",
       "</table>\n",
       "</div>"
      ],
      "text/plain": [
       "                                                  id  gender  \\\n",
       "0  768d1a5f81d78235ef9ada30815bf0c2c87b26ae5a1ac5...  female   \n",
       "1  6c78ed178ed6ca5114c297973fbfaedd1b23300887fb45...  female   \n",
       "2  cb21208609092da5322fdbdb6a3e26018500afa8f16cb4...  female   \n",
       "3  d69531784d3a60fed7c33acd8019b0055038e4e0315a8c...  female   \n",
       "4  b083ca5d64492fceebf71428654cfe17ae2e2e740e56ef...  female   \n",
       "5  dce43f6f76bba6b938cf2661d41b0881b53ca2fd9b1c0b...    male   \n",
       "6  2335f565feff86a18b685e3f361d29c33d2e4df9ecc6e5...  female   \n",
       "7  28efa72f2ba129de0d30d09788e659a5c4a538b649fdbe...    male   \n",
       "8  23f5760b824582719c1a84e76826f53e07c3fca2713348...    male   \n",
       "9  a4815a141d823c02f49c64ba732b14486504cda54a9940...  female   \n",
       "\n",
       "               disease ancestry partial zipcode decade of birth  \n",
       "0  Alzheimer's disease   Africa           26***          1950 s  \n",
       "1   multiple sclerosis   Africa           78***          1940 s  \n",
       "2        heart disease     Asia           51***          1960 s  \n",
       "3        endometriosis   Africa           54***          1940 s  \n",
       "4            gastritis   Europe           68***          1940 s  \n",
       "5        endometriosis   Europe           75***          1930 s  \n",
       "6   multiple sclerosis     Asia           32***          1940 s  \n",
       "7             HIV/AIDS  Oceania           32***          1950 s  \n",
       "8          skin cancer   Africa           96***          1960 s  \n",
       "9  Alzheimer's disease  Oceania           93***          1940 s  "
      ]
     },
     "execution_count": 23,
     "metadata": {},
     "output_type": "execute_result"
    }
   ],
   "source": [
    "hospital_creation.drop(['year of birth'],axis='columns',inplace=True)\n",
    "\n",
    "hospital_creation.head(10)"
   ]
  },
  {
   "cell_type": "code",
   "execution_count": 24,
   "metadata": {},
   "outputs": [
    {
     "data": {
      "text/plain": [
       "1548"
      ]
     },
     "execution_count": 24,
     "metadata": {},
     "output_type": "execute_result"
    }
   ],
   "source": [
    "#Chunk qui permet de voir toutes les lignes qui ont une copie selon les colones decade of birt,zipcode et gender, plus on se rapproche de 2000 mieux on est \n",
    "\n",
    "duplicateRows = hospital_creation[hospital_creation.duplicated(['decade of birth', 'partial zipcode','gender'],keep=False) ]\n",
    "\n",
    "len(duplicateRows)"
   ]
  },
  {
   "cell_type": "code",
   "execution_count": 25,
   "metadata": {},
   "outputs": [
    {
     "name": "stdout",
     "output_type": "stream",
     "text": [
      "                                                   id  gender  \\\n",
      "0   768d1a5f81d78235ef9ada30815bf0c2c87b26ae5a1ac5...  female   \n",
      "1   6c78ed178ed6ca5114c297973fbfaedd1b23300887fb45...  female   \n",
      "2   cb21208609092da5322fdbdb6a3e26018500afa8f16cb4...  female   \n",
      "3   d69531784d3a60fed7c33acd8019b0055038e4e0315a8c...  female   \n",
      "5   dce43f6f76bba6b938cf2661d41b0881b53ca2fd9b1c0b...    male   \n",
      "6   2335f565feff86a18b685e3f361d29c33d2e4df9ecc6e5...  female   \n",
      "7   28efa72f2ba129de0d30d09788e659a5c4a538b649fdbe...    male   \n",
      "8   23f5760b824582719c1a84e76826f53e07c3fca2713348...    male   \n",
      "10  0fc9131a2aa7a5d8a92aca9cb684d26c11ff83d7e96939...  female   \n",
      "11  838fdf1c5ec267e8117bf41ab66d51890a9bad7f802095...    male   \n",
      "\n",
      "                disease ancestry partial zipcode decade of birth  \n",
      "0   Alzheimer's disease   Africa           26***          1950 s  \n",
      "1    multiple sclerosis   Africa           78***          1940 s  \n",
      "2         heart disease     Asia           51***          1960 s  \n",
      "3         endometriosis   Africa           54***          1940 s  \n",
      "5         endometriosis   Europe           75***          1930 s  \n",
      "6    multiple sclerosis     Asia           32***          1940 s  \n",
      "7              HIV/AIDS  Oceania           32***          1950 s  \n",
      "8           skin cancer   Africa           96***          1960 s  \n",
      "10        endometriosis   Europe           74***          1970 s  \n",
      "11         hypertension   Africa           50***          1950 s  \n"
     ]
    }
   ],
   "source": [
    "print(duplicateRows[:10])"
   ]
  },
  {
   "cell_type": "code",
   "execution_count": 26,
   "metadata": {},
   "outputs": [],
   "source": [
    "#On dégage les ancestry parce que je pense pas que ca serve à grand chose \n",
    "hospital_creation.drop(['ancestry'],axis='columns',inplace=True)"
   ]
  },
  {
   "cell_type": "code",
   "execution_count": 27,
   "metadata": {},
   "outputs": [],
   "source": [
    "#créer un vecteur pour convertir zipcode en état pour passer de 90 zipcodes à 45 (j'espère)\n",
    "state = []\n",
    "for zipc in data['zipcode'].astype(str):\n",
    "    a = zipcodes.matching(zipc)\n",
    "    if not a:\n",
    "        state.append(np.nan)\n",
    "    else:\n",
    "        b = a[0]\n",
    "        c = b['state']\n",
    "        state.append(c)  "
   ]
  },
  {
   "cell_type": "code",
   "execution_count": 313,
   "metadata": {},
   "outputs": [
    {
     "name": "stdout",
     "output_type": "stream",
     "text": [
      "[nan, nan, 'IA', nan, 'NE', 'TX', nan, nan, 'AP', nan, nan, nan, 'OH', 'ND', nan, 'AR', nan, nan, nan, 'WV', nan, nan, 'MN', nan, nan, nan, nan, nan, 'PA', 'IN', nan, nan, nan, nan, nan, nan, 'TX', 'IL', nan, nan, 'MO', 'OR', 'NY', nan, nan, nan, 'WV', 'AZ', nan, 'TN', nan, 'OH', nan, 'WV', 'VA', nan, nan, 'VA', nan, nan, nan, 'VA', nan, 'MI', nan, nan, nan, nan, nan, 'PA', nan, 'NY', nan, 'IA', nan, 'OH', nan, nan, nan, nan, nan, nan, nan, nan, nan, nan, 'TN', nan, 'IA', nan, 'FL', 'SD', nan, 'NC', 'OR', nan, nan, nan, nan, nan, nan, nan, nan, nan, nan, 'TX', nan, nan, nan, nan, nan, nan, nan, 'DE', nan, 'MN', nan, nan, nan, nan, nan, nan, nan, 'FL', 'PA', nan, nan, 'UT', nan, nan, 'CA', nan, nan, 'KY', 'OK', 'VA', nan, 'TX', nan, nan, 'WI', nan, 'NY', nan, nan, nan, 'NY', nan, 'IL', nan, 'IA', 'OH', 'WA', nan, 'FL', 'PA', nan, nan, 'NC', nan, 'OH', 'PA', nan, nan, nan, nan, nan, nan, nan, nan, nan, nan, 'AK', nan, 'OH', nan, nan, 'PA', nan, 'MD', nan, nan, nan, nan, nan, 'IN', nan, nan, 'MN', nan, nan, 'TX', nan, 'CO', nan, nan, 'AL', nan, 'OK', nan, 'NY', nan, nan, nan, 'FL', nan, 'AK', nan, nan, nan, 'NM', 'MO', 'MN', nan, nan, 'NY', nan, 'NY', nan, nan, nan, nan, nan, 'VA', 'NY', nan, 'NC', 'IA', nan, 'MN', nan, nan, 'DC', nan, nan, 'CA', nan, nan, nan, nan, nan, nan, nan, nan, nan, nan, nan, nan, 'PA', 'IN', 'CA', nan, nan, 'IN', nan, nan, 'CO', nan, nan, nan, 'TX', nan, nan, 'MS', 'WV', 'NV', 'FL', nan, nan, 'AK', nan, 'TX', nan, nan, 'WV', 'IL', 'SC', 'CA', nan, 'IL', 'MI', nan, nan, nan, nan, nan, nan, 'IN', 'MN', 'MS', 'KS', nan, nan, 'AR', 'IA', 'WI', 'FL', 'FL', 'NE', nan, 'CA', nan, 'CO', nan, 'PA', nan, 'TX', 'NM', 'NY', 'IL', 'DC', nan, nan, nan, nan, nan, nan, 'MO', 'WY', 'MS', 'CO', nan, nan, 'MO', 'NC', 'CO', nan, 'WI', nan, nan, nan, 'WI', 'IN', nan, nan, 'MN', nan, 'OK', nan, 'AL', nan, 'NY', nan, nan, nan, nan, nan, 'LA', nan, nan, nan, 'WV', 'OK', 'NC', nan, nan, nan, 'NY', nan, 'NY', nan, nan, 'FL', nan, 'IL', nan, nan, nan, 'TX', 'WV', 'CA', nan, 'MO', 'TX', 'AZ', 'HI', 'FL', nan, nan, nan, nan, 'PA', 'NM', 'SD', 'MO', 'OH', 'UT', nan, 'FL', nan, nan, nan, 'PA', nan, 'AK', nan, nan, 'MD', 'PA', nan, 'OR', nan, nan, 'MT', nan, 'KS', 'OK', nan, nan, nan, 'MI', nan, nan, nan, nan, nan, 'MN', nan, nan, nan, nan, nan, 'OH', 'MO', nan, 'NE', 'SC', 'NE', 'WV', 'OH', nan, nan, 'CA', 'TX', nan, nan, 'MS', nan, 'AZ', nan, nan, 'CA', 'IA', 'TX', nan, 'MO', nan, nan, nan, nan, nan, 'UT', nan, nan, 'FL', 'NY', 'NE', nan, nan, 'DC', nan, nan, 'LA', 'ID', 'MD', 'AP', nan, 'NC', 'KY', 'TX', 'PA', 'IN', 'KY', 'KS', nan, 'IL', 'NE', 'NY', nan, 'AZ', nan, nan, nan, nan, nan, 'TX', 'IA', nan, 'AL', nan, nan, 'VA', nan, 'WV', nan, nan, nan, nan, 'TX', nan, nan, nan, nan, nan, nan, nan, nan, 'GA', nan, nan, nan, nan, nan, 'MD', nan, nan, nan, 'SC', nan, 'IA', nan, nan, nan, nan, 'WV', nan, nan, nan, nan, 'AL', 'AR', nan, nan, nan, 'NY', nan, nan, nan, nan, 'AA', 'CO', 'NE', nan, nan, nan, 'CA', nan, 'OH', 'MT', nan, nan, nan, nan, nan, nan, nan, nan, nan, 'GA', nan, 'MI', nan, nan, 'NC', 'TX', 'CA', nan, nan, nan, nan, 'KS', 'ND', nan, 'LA', nan, nan, 'AZ', 'ID', nan, nan, nan, 'KY', nan, 'IL', nan, nan, nan, nan, 'CA', 'AL', 'CA', nan, nan, nan, nan, nan, nan, nan, 'IL', nan, 'FL', nan, 'NV', nan, 'GA', nan, 'IA', 'KS', 'CO', 'MI', nan, nan, 'KY', nan, 'TX', nan, 'AR', 'SC', nan, nan, nan, nan, 'CA', nan, nan, 'MO', 'PA', nan, nan, nan, 'CO', nan, nan, nan, 'AL', 'NE', 'OR', nan, nan, nan, 'WI', nan, nan, nan, nan, nan, nan, nan, 'AL', 'CA', 'TN', 'VA', nan, nan, nan, nan, nan, nan, nan, nan, nan, 'IN', nan, nan, nan, 'WA', nan, 'KY', 'CA', nan, nan, 'NC', 'TX', 'AR', 'WA', 'GA', 'KY', nan, nan, 'VA', 'NC', nan, 'FL', 'TX', nan, nan, nan, nan, nan, 'AZ', 'IA', nan, nan, 'GU', 'MO', nan, nan, nan, nan, 'IL', nan, nan, nan, nan, nan, nan, 'TX', 'VA', 'GA', nan, nan, nan, nan, nan, 'WI', 'IA', 'MS', nan, 'NY', nan, 'MI', 'PA', 'AL', nan, nan, nan, nan, 'VA', 'KY', nan, 'PA', nan, 'GA', nan, 'CA', 'NE', nan, nan, 'CO', 'MI', nan, nan, nan, nan, nan, nan, 'CA', 'LA', 'AP', nan, nan, 'MN', nan, nan, 'IA', nan, 'LA', 'MN', 'MI', nan, nan, 'MI', nan, nan, 'AZ', nan, 'WI', 'WA', 'NC', 'CA', nan, 'LA', nan, 'WA', nan, 'AL', 'FL', nan, nan, nan, 'HI', nan, 'TX', 'PA', nan, 'OK', 'KY', 'GA', 'TX', 'MO', nan, nan, 'OH', 'MN', nan, 'ID', nan, nan, 'GA', 'CO', nan, nan, 'IN', nan, nan, nan, nan, nan, 'WI', nan, nan, 'NC', nan, nan, nan, 'OH', nan, 'IL', nan, nan, 'LA', nan, 'TN', 'MS', 'KS', 'TN', nan, 'MS', 'MS', 'ND', 'HI', 'KS', 'TN', nan, 'VA', nan, nan, nan, nan, 'ID', nan, nan, nan, nan, 'AL', 'TX', 'PA', nan, nan, nan, nan, 'FL', nan, 'SC', nan, 'IL', 'CA', 'TX', nan, nan, 'TX', 'MS', 'NY', nan, 'MS', nan, 'MO', 'CA', 'NY', nan, nan, nan, 'MN', nan, 'FL', 'KY', nan, 'NY', nan, 'NY', nan, nan, nan, nan, nan, 'TX', nan, nan, 'WA', nan, nan, nan, 'AZ', nan, nan, nan, nan, nan, nan, nan, nan, 'WI', nan, nan, nan, 'GA', 'TN', 'VA', nan, nan, nan, 'CA', nan, nan, 'CO', nan, 'MT', nan, nan, 'OK', nan, nan, nan, nan, nan, 'IA', 'IA', nan, 'LA', 'CA', nan, nan, nan, 'FL', nan, 'PA', 'IL', nan, nan, 'WV', nan, nan, nan, nan, nan, nan, 'IL', 'AL', 'HI', 'OH', 'MI', nan, nan, 'IN', nan, nan, nan, nan, nan, 'NY', 'TX', nan, 'MO', nan, nan, nan, 'IN', nan, nan, 'NY', nan, 'WV', 'IL', nan, 'OH', nan, 'TX', nan, nan, nan, nan, nan, 'WI', nan, 'OH', nan, 'NY', nan, 'NC', 'CA', 'KS', 'CA', nan, 'OH', nan, 'WV', 'PA', nan, 'NY', 'NE', nan, nan, 'CA', 'PA', nan, nan, nan, nan, nan, nan, nan, nan, nan, nan, nan, 'NY', 'UT', 'TX', 'TX', nan, 'GA', nan, nan, 'KS', nan, nan, nan, nan, nan, 'TX', nan, nan, nan, 'AZ', 'NC', 'IN', 'VA', 'MS', nan, 'KS', nan, nan, nan, 'TX', 'OK', 'CA', 'FL', 'TN', 'AP', 'CA', 'SD', 'HI', nan, nan, nan, 'MI', nan, 'NY', nan, nan, 'FL', 'TX', 'CA', 'TX', nan, 'CO', 'CA', nan, 'WY', nan, nan, nan, nan, nan, 'AL', 'AP', nan, nan, nan, nan, nan, nan, nan, nan, nan, nan, 'PA', nan, 'PA', 'IA', 'UT', nan, nan, 'IN', nan, nan, 'NC', nan, nan, nan, nan, nan, nan, nan, nan, nan, nan, 'MI', nan, nan, nan, nan, 'WA', 'LA', 'AR', 'MI', nan, 'CA', nan, 'MD', 'GA', nan, 'NY', 'IN', nan, nan, nan, 'OK', 'VA', nan, 'TN', 'NY', nan, 'TX', 'MT', nan, 'CA', nan, nan, 'AR', nan, nan, 'NY', 'KY', nan, 'HI', 'OR', nan, nan, 'AL', nan, 'KY', 'OK', 'OH', nan, nan, nan, nan, 'TX', nan, nan, 'NC', 'OH', nan, nan, nan, nan, 'IL', 'OK', nan, 'IA', nan, 'VA', 'IL', 'MN', nan, nan, nan, nan, nan, nan, 'AL', nan, 'NC', nan, nan, nan, 'FL', 'PA', 'IA', 'IA', 'AL', nan, 'NY', 'MS', 'CA', nan, nan, nan, nan, nan, 'OH', nan, 'PA', 'CA', 'FL', nan, nan, 'MI', 'MI', 'OK', 'NC', nan, 'PA', 'WV', nan, 'CA', nan, nan, nan, 'IL', 'VA', 'AL', nan, 'AR', 'CA', nan, 'UT', 'NY', nan, 'CA', 'OK', nan, 'FL', 'TX', nan, 'IN', nan, 'MT', nan, 'NY', 'DC', 'AR', nan, 'SD', 'MN', 'TX', 'FL', nan, nan, 'GA', 'OH', nan, nan, 'WI', 'TX', 'CA', nan, nan, nan, nan, 'WV', 'NV', nan, 'MT', 'MT', 'IL', 'OR', nan, 'PA', 'AR', nan, nan, 'FL', 'SD', 'NC', 'IN', nan, nan, 'CA', nan, nan, nan, nan, nan, nan, 'AK', 'MO', nan, 'IA', nan, nan, nan, 'OK', nan, nan, nan, nan, 'MI', 'WI', nan, 'OR', 'CA', nan, nan, nan, nan, nan, nan, 'IL', nan, 'WA', nan, nan, 'TX', nan, 'MI', nan, 'LA', 'TX', 'VA', 'OK', nan, nan, nan, 'AR', nan, 'OH', nan, 'FL', 'CA', nan, nan, 'KS', 'AL', 'NY', nan, 'NY', 'NC', nan, 'IN', 'NY', nan, nan, 'AR', 'OK', nan, 'MO', 'TX', nan, 'AL', 'TX', 'LA', nan, nan, nan, nan, nan, nan, nan, 'SC', nan, 'LA', nan, 'OR', nan, nan, 'MN', nan, 'TN', nan, 'MN', nan, nan, 'FL', nan, nan, nan, 'OH', 'IN', nan, 'ND', nan, 'OH', 'KY', 'NY', 'PA', 'CA', 'MD', 'AK', nan, nan, 'IL', nan, nan, nan, 'PA', nan, nan, nan, nan, 'GA', nan, 'NY', nan, 'VA', 'MO', 'GA', 'MS', nan, nan, nan, nan, nan, nan, 'NC', 'AR', 'FL', 'WI', nan, 'OR', nan, nan, nan, nan, 'IL', 'AK', 'CA', nan, 'NM', 'NY', 'IA', nan, 'AL', nan, 'PA', nan, nan, 'TX', nan, nan, 'OH', 'OH', 'AL', nan, 'TX', nan, nan, 'OK', nan, nan, 'NC', nan, nan, 'AA', 'IN', 'IA', nan, 'MO', nan, nan, nan, 'MD', 'VA', nan, 'PA', 'IL', nan, nan, 'MT', nan, 'VA', nan, nan, nan, 'PA', nan, nan, 'IL', nan, 'TX', 'NM', nan, 'PA', nan, nan, 'CO', 'CA', 'MI', nan, 'NY', 'IL', nan, nan, 'OH', 'IA', nan, nan, nan, 'TX', 'MI', 'NC', 'FL', nan, nan, 'VA', nan, 'MN', nan, nan, 'CA', nan, nan, nan, 'PA', nan, nan, nan, 'AR', nan, 'CA', 'WV', 'WI', nan, 'IL', nan, nan, nan, nan, nan, nan, nan, nan, nan, 'IA', 'NY', 'AR', nan, 'IN', nan, nan, nan, 'PA', 'AZ', nan, 'AP', nan, nan, nan, 'PA', nan, 'KS', 'KS', 'NE', 'WA', nan, nan, nan, 'OR', nan, nan, nan, 'IN', nan, nan, nan, 'AR', 'NY', nan, 'MS', 'PA', nan, nan, nan, 'TX', nan, 'NM', nan, nan, nan, nan, 'MN', 'CA', nan, nan, 'MI', 'WA', nan, nan, 'MN', nan, 'GA', nan, nan, 'UT', 'NV', 'OH', 'TX', nan, 'SC', 'VA', 'FL', 'LA', nan, nan, nan, nan, nan, nan, 'NY', 'NV', nan, nan, 'IL', nan, nan, nan, nan, 'SC', nan, 'NM', 'NY', nan, 'PA', 'AP', 'MT', nan, nan, nan, nan, nan, nan, 'PA', 'DC', 'CA', 'IL', 'CA', nan, nan, 'NY', 'VA', 'AR', 'MN', nan, nan, nan, nan, 'PA', nan, nan, 'PA', nan, nan, nan, nan, nan, 'MI', nan, 'AZ', nan, nan, 'CA', nan, nan, 'SC', 'TX', nan, nan, 'TX', 'NC', 'CA', 'CO', nan, 'IA', nan, 'FL', 'SD', nan, nan, 'AZ', nan, nan, nan, nan, 'IL', nan, nan, 'IA', nan, 'CO', nan, 'KS', 'NY', nan, nan, 'IL', 'KS', nan, nan, nan, 'OH', nan, 'IA', 'OH', 'FL', nan, 'TX', nan, nan, 'CA', nan, nan, nan, nan, 'MI', nan, 'NY', 'PA', nan, nan, nan, nan, 'NE', 'TX', nan, 'MO', nan, nan, 'AR', 'KS', 'PA', nan, nan, nan, 'KY', 'VA', 'GA', nan, nan, nan, 'MN', 'MO', nan, nan, 'GU', 'MI', nan, nan, nan, nan, nan, nan, nan, 'KS', 'NY', 'AL', nan, 'NM', nan, 'TX', 'WV', nan, 'CA', nan, nan, 'NC', nan, nan, 'IL', nan, 'CO', nan, 'MT', nan, 'MN', 'WA', nan, 'PA', 'ID', nan, nan, nan, 'WV', 'AR', 'ND', 'IA', 'MN', nan, nan, 'TX', 'OR', 'AL', nan, 'MN', nan, 'GA', 'CO', 'MO', nan, nan, nan, nan, nan, 'TX', nan, nan, nan, nan, nan, 'NE', nan, nan, nan, nan, nan, nan, 'MT', 'KY', nan, 'WA', nan, nan, 'WV', nan, nan, 'PA', nan, nan, 'CA', nan, nan, nan, nan, 'TX', 'CA', 'KY', nan, 'SC', 'KS', nan, nan, nan, 'NY', nan, 'AZ', nan, nan, 'OR', 'TX', 'AK', 'WV', 'TX', 'WA', nan, nan, nan, nan, nan, 'MN', 'PA', nan, nan, 'PA', 'AR', 'KS', nan, 'PA', 'OH', 'TX', 'LA', nan, nan, 'PA', nan, nan, nan, nan, nan, 'PA', 'PA', 'NY', nan, nan, nan, nan, 'NM', 'IL', 'TX', 'WV', nan, nan, 'AZ', nan, nan, nan, nan, nan, 'OK', 'MI', 'IL', nan, 'MO', nan, nan, nan, 'WY', 'MT', 'HI', 'MN', 'OK', 'TX', 'TX', 'DC', 'IL', nan, nan, nan, nan, 'IL', nan, 'NC', nan, nan, 'TN', 'NY', nan, 'AK', 'AZ', 'CA', 'MT', nan, 'PA', 'WI', nan, 'SC', nan, nan, nan, 'MO', nan, 'WV', 'AL', nan, 'FL', 'UT', 'WA', nan, nan, 'AL', nan, nan, 'MT', nan, nan, 'SD', 'MS', 'MI', nan, nan, nan, nan, nan, nan, nan, nan, nan, 'NE', nan, nan, 'NY', nan, nan, 'OH', nan, nan, nan, 'IN', 'IL', 'KS', 'MO', nan, 'MN', 'IN', 'NY', nan, nan, nan, nan, nan, 'CA', nan, 'PA', nan, 'IL', nan, nan, 'MI', 'CA', nan, 'NC']\n"
     ]
    }
   ],
   "source": [
    "print(state)"
   ]
  },
  {
   "cell_type": "code",
   "execution_count": 28,
   "metadata": {},
   "outputs": [],
   "source": [
    "def_states=[]\n",
    "for i in data.zipcode.astype(str).str[:2]:\n",
    "    a=zipcodes.similar_to(i)\n",
    "    b=a[0]\n",
    "    c=a[1]\n",
    "    if b['state']==c['state']:\n",
    "        def_states.append(b['state'])\n",
    "        "
   ]
  },
  {
   "cell_type": "code",
   "execution_count": 29,
   "metadata": {},
   "outputs": [
    {
     "name": "stdout",
     "output_type": "stream",
     "text": [
      "['WV', 'TX', 'IA', 'WI', 'NE', 'TX', 'FL', 'FL', 'CA', 'CA', 'OK', 'IA', 'OH', 'ND', 'NY', 'LA', 'NE', 'CA', 'VA', 'WV', 'VA', 'UT', 'MN', 'WA', 'NC', 'MO', 'TX', 'OH', 'PA', 'IN', 'SC', 'WI', 'KY', 'TX', 'WY', 'AZ', 'TX', 'IL', 'UT', 'OK', 'MO', 'OR', 'NY', 'AA', 'CO', 'DC', 'WV', 'AZ', 'KY', 'TN', 'IA', 'OH', 'CA', 'WV', 'VA', 'NY', 'WY', 'VA', 'NY', 'NE', 'DC', 'VA', 'IA', 'MI', 'MO', 'AA', 'OR', 'GA', 'OH', 'PA', 'WV', 'NY', 'NE', 'IA', 'CO', 'OH', 'NY', 'WY', 'NY', 'TN', 'CO', 'MO', 'NM', 'TX', 'NY', 'KS', 'TN', 'CA', 'IA', 'NV', 'FL', 'SD', 'NY', 'NC', 'OR', 'NY', 'CA', 'AZ', 'FL', 'NY', 'TX', 'NM', 'NC', 'OR', 'CA', 'TX', 'AA', 'NM', 'NE', 'NV', 'MN', 'AZ', 'KS', 'PA', 'GA', 'MN', 'AL', 'IL', 'VA', 'KY', 'TX', 'TX', 'KS', 'FL', 'PA', 'MI', 'NM', 'UT', 'NM', 'AL', 'CA', 'IN', 'NY', 'KY', 'OK', 'VA', 'CA', 'TX', 'UT', 'TX', 'WI', 'WY', 'NY', 'IN', 'KS', 'WA', 'NY', 'MS', 'IL', 'MT', 'IA', 'OH', 'WA', 'CA', 'FL', 'PA', 'WY', 'WY', 'NC', 'NE', 'OH', 'PA', 'CA', 'NY', 'NE', 'TX', 'WV', 'CA', 'CO', 'TX', 'GA', 'VA', 'WA', 'WY', 'OH', 'MD', 'AZ', 'PA', 'VA', 'MD', 'NC', 'IA', 'WV', 'CA', 'IN', 'IN', 'FL', 'MN', 'MN', 'CA', 'AZ', 'TX', 'MS', 'CO', 'IL', 'IA', 'AL', 'WY', 'OK', 'MO', 'NY', 'NE', 'NE', 'VA', 'FL', 'CA', 'WA', 'SD', 'PA', 'IA', 'NM', 'MO', 'MN', 'CA', 'GA', 'NY', 'PA', 'NY', 'NY', 'VA', 'IL', 'MO', 'IN', 'VA', 'NY', 'WA', 'NC', 'IA', 'NY', 'MN', 'IN', 'MD', 'DC', 'CA', 'WA', 'CA', 'MD', 'MO', 'AA', 'NE', 'NY', 'IN', 'NC', 'WI', 'ND', 'AZ', 'MI', 'CA', 'PA', 'IN', 'CA', 'VA', 'AL', 'IN', 'MN', 'TN', 'CO', 'IA', 'FL', 'OH', 'TX', 'FL', 'KY', 'MS', 'WV', 'NV', 'FL', 'PA', 'MO', 'WA', 'KS', 'TX', 'CO', 'NC', 'WV', 'IL', 'SC', 'CA', 'MO', 'IL', 'MI', 'GA', 'NE', 'WA', 'MO', 'OR', 'IA', 'IN', 'MN', 'TN', 'KS', 'KS', 'OH', 'LA', 'IA', 'WI', 'AA', 'FL', 'NE', 'NY', 'CA', 'TN', 'CO', 'KY', 'PA', 'NE', 'TX', 'NM', 'NY', 'IL', 'DC', 'TN', 'PA', 'FL', 'CO', 'PA', 'OR', 'MO', 'WY', 'MS', 'CO', 'MS', 'MN', 'MO', 'NC', 'CO', 'FL', 'WI', 'IA', 'CA', 'KY', 'WI', 'IN', 'CO', 'PA', 'MN', 'OK', 'OK', 'SC', 'AL', 'MN', 'NY', 'AZ', 'KS', 'CO', 'MS', 'NV', 'LA', 'IA', 'CA', 'WY', 'WV', 'OK', 'NC', 'KS', 'FL', 'WY', 'NY', 'NE', 'NY', 'PA', 'MT', 'FL', 'PA', 'IL', 'MT', 'AZ', 'CA', 'TX', 'WV', 'CA', 'CO', 'MO', 'TX', 'AZ', 'CA', 'FL', 'KY', 'NV', 'WV', 'CA', 'PA', 'NM', 'SD', 'MO', 'OH', 'UT', 'TX', 'FL', 'OH', 'CO', 'WI', 'PA', 'WV', 'WA', 'OH', 'OK', 'DC', 'PA', 'CA', 'OR', 'CA', 'PA', 'MT', 'IN', 'KS', 'OK', 'NV', 'KY', 'WA', 'MI', 'AL', 'TX', 'AA', 'NE', 'MO', 'MN', 'FL', 'GA', 'KS', 'FL', 'NE', 'OH', 'MO', 'AZ', 'NE', 'SC', 'NE', 'WV', 'OH', 'UT', 'MO', 'CA', 'TX', 'WA', 'CA', 'MS', 'WY', 'AZ', 'CA', 'NY', 'CA', 'IA', 'TX', 'KY', 'MO', 'PA', 'MT', 'CA', 'KS', 'WY', 'UT', 'NY', 'IL', 'FL', 'NY', 'NE', 'TX', 'MN', 'DC', 'NE', 'OK', 'LA', 'WY', 'MD', 'CA', 'MO', 'NC', 'KY', 'TX', 'PA', 'IN', 'KY', 'KS', 'ND', 'IL', 'NE', 'NY', 'NY', 'AZ', 'WI', 'NY', 'UT', 'WV', 'TN', 'NM', 'IA', 'NY', 'AL', 'CA', 'CO', 'DC', 'NY', 'WV', 'MS', 'IN', 'OH', 'AL', 'TX', 'IA', 'AR', 'CO', 'UT', 'WY', 'CA', 'PA', 'UT', 'GA', 'MO', 'AA', 'LA', 'FL', 'KS', 'MD', 'UT', 'OK', 'WV', 'SC', 'AR', 'IA', 'AZ', 'IL', 'TX', 'IA', 'WV', 'TX', 'OH', 'WI', 'TN', 'AL', 'LA', 'CA', 'IL', 'WI', 'NY', 'NY', 'CA', 'UT', 'GA', 'AA', 'CO', 'NE', 'WV', 'NY', 'NY', 'CA', 'OK', 'OH', 'MT', 'GA', 'CA', 'AL', 'TX', 'LA', 'TX', 'NE', 'OK', 'UT', 'GA', 'VA', 'MI', 'WA', 'KS', 'NC', 'TX', 'CA', 'UT', 'VA', 'AZ', 'MT', 'KS', 'ND', 'NY', 'LA', 'TN', 'NM', 'AZ', 'WY', 'NC', 'NY', 'SD', 'KY', 'GA', 'IL', 'AZ', 'PA', 'CA', 'OR', 'CA', 'AL', 'CA', 'WY', 'AZ', 'IN', 'AZ', 'IL', 'CO', 'KY', 'IL', 'NY', 'FL', 'LA', 'NV', 'KY', 'GA', 'IA', 'IA', 'KS', 'CO', 'MI', 'OK', 'NE', 'KY', 'IA', 'TX', 'CA', 'AR', 'SC', 'TX', 'NY', 'IN', 'NY', 'CA', 'VA', 'WV', 'MO', 'PA', 'NM', 'KY', 'IA', 'CO', 'CO', 'VA', 'TX', 'AL', 'NE', 'OR', 'GA', 'MN', 'CO', 'WI', 'TN', 'UT', 'PA', 'MD', 'NY', 'IA', 'KY', 'AL', 'CA', 'TN', 'VA', 'NM', 'NM', 'NM', 'CA', 'NY', 'NY', 'PA', 'VA', 'WI', 'IN', 'AR', 'MD', 'AL', 'WA', 'CA', 'KY', 'CA', 'NM', 'NE', 'NC', 'TX', 'AR', 'WA', 'GA', 'KY', 'OK', 'AR', 'VA', 'NC', 'IL', 'FL', 'TX', 'NE', 'IL', 'TX', 'WI', 'MO', 'AZ', 'IA', 'VA', 'CO', 'CA', 'MO', 'KY', 'IL', 'LA', 'MI', 'IL', 'PA', 'AZ', 'MN', 'VA', 'CA', 'KY', 'TX', 'VA', 'GA', 'WY', 'SD', 'NY', 'FL', 'CO', 'WI', 'IA', 'MS', 'TX', 'NY', 'OH', 'MI', 'PA', 'AL', 'LA', 'CA', 'KS', 'ND', 'VA', 'KY', 'WV', 'PA', 'NY', 'GA', 'IL', 'CA', 'NE', 'NY', 'IL', 'CO', 'MI', 'MO', 'NY', 'NY', 'NY', 'NC', 'CA', 'CA', 'LA', 'CA', 'WA', 'MI', 'MN', 'AZ', 'NM', 'IA', 'SC', 'LA', 'MN', 'MI', 'GA', 'PA', 'MI', 'PA', 'CA', 'AZ', 'WY', 'WI', 'WA', 'NC', 'CA', 'TX', 'LA', 'MD', 'WA', 'NE', 'AL', 'FL', 'KY', 'PA', 'NM', 'CA', 'WA', 'TX', 'PA', 'IL', 'OK', 'KY', 'GA', 'TX', 'MO', 'AZ', 'KY', 'OH', 'MN', 'KY', 'WY', 'AZ', 'TN', 'GA', 'CO', 'NY', 'TN', 'IN', 'PA', 'NY', 'OK', 'TX', 'FL', 'WI', 'NM', 'TN', 'NC', 'MO', 'PA', 'NY', 'OH', 'AL', 'IL', 'VA', 'WY', 'LA', 'VA', 'TN', 'MS', 'KS', 'TN', 'WV', 'TN', 'TN', 'ND', 'CA', 'KS', 'TN', 'TN', 'DC', 'NY', 'VA', 'OH', 'NV', 'WY', 'MI', 'CA', 'AZ', 'KY', 'AL', 'TX', 'PA', 'IA', 'MI', 'GA', 'VA', 'FL', 'LA', 'SC', 'NY', 'IL', 'CA', 'TX', 'NY', 'NE', 'TX', 'MS', 'NY', 'WY', 'TN', 'AZ', 'MO', 'CA', 'NY', 'MI', 'AZ', 'KS', 'MN', 'CA', 'FL', 'KY', 'IL', 'NY', 'TN', 'NY', 'NY', 'IL', 'IL', 'AZ', 'TX', 'TX', 'OH', 'MT', 'WA', 'KS', 'MO', 'GA', 'AZ', 'VA', 'ND', 'AL', 'KY', 'MN', 'UT', 'WV', 'NE', 'WI', 'CA', 'TN', 'AA', 'GA', 'TN', 'VA', 'WV', 'NY', 'TN', 'CA', 'AR', 'TN', 'CO', 'IA', 'MT', 'NY', 'OH', 'OK', 'PA', 'MI', 'PA', 'IA', 'MT', 'IA', 'IA', 'NE', 'LA', 'CA', 'TX', 'NE', 'KY', 'FL', 'CA', 'PA', 'IL', 'MD', 'TN', 'VA', 'TX', 'MO', 'VA', 'NM', 'IN', 'CA', 'IL', 'AL', 'CA', 'OH', 'MI', 'NY', 'KY', 'IN', 'CA', 'NY', 'OH', 'IL', 'AR', 'NY', 'TX', 'IN', 'MO', 'NY', 'IL', 'TX', 'IN', 'GA', 'MT', 'NY', 'OK', 'WV', 'IL', 'PA', 'OH', 'OR', 'TX', 'MN', 'TN', 'CA', 'TX', 'WA', 'WI', 'IA', 'OH', 'TX', 'NY', 'CA', 'NC', 'CA', 'KS', 'CA', 'MO', 'OH', 'IL', 'WV', 'PA', 'OH', 'NY', 'NE', 'IA', 'NY', 'CA', 'PA', 'AA', 'AZ', 'OR', 'MN', 'FL', 'KS', 'DC', 'WV', 'PA', 'MO', 'KY', 'NY', 'UT', 'TX', 'TX', 'DC', 'GA', 'OR', 'AR', 'KS', 'IL', 'NM', 'GA', 'IN', 'NY', 'TX', 'NE', 'PA', 'CA', 'AZ', 'NC', 'IN', 'VA', 'MS', 'IL', 'KS', 'VA', 'WY', 'AR', 'TX', 'OK', 'CA', 'FL', 'TN', 'CA', 'CA', 'SD', 'CA', 'KY', 'AL', 'CA', 'MI', 'CO', 'NY', 'TX', 'UT', 'FL', 'TX', 'CA', 'TX', 'GA', 'CO', 'CA', 'AA', 'WY', 'WV', 'AZ', 'IL', 'TX', 'CO', 'AL', 'CA', 'CA', 'TX', 'ND', 'CA', 'TN', 'OR', 'KY', 'TN', 'OH', 'NY', 'PA', 'WV', 'PA', 'IA', 'UT', 'PA', 'GA', 'IN', 'MO', 'CO', 'NC', 'NC', 'SD', 'MN', 'OH', 'MS', 'CA', 'CA', 'IL', 'MO', 'MO', 'MI', 'AL', 'AZ', 'MI', 'AZ', 'WA', 'LA', 'AR', 'MI', 'CA', 'CA', 'MI', 'MD', 'GA', 'IN', 'NY', 'IN', 'OK', 'IN', 'KY', 'OK', 'VA', 'NY', 'TN', 'NY', 'OH', 'TX', 'MT', 'MO', 'CA', 'OK', 'GA', 'AR', 'TN', 'IL', 'NY', 'KY', 'NE', 'CA', 'OR', 'SD', 'MN', 'AL', 'AZ', 'KY', 'OK', 'OH', 'WA', 'WI', 'LA', 'WA', 'TX', 'AR', 'IN', 'NC', 'OH', 'CA', 'VA', 'AL', 'IA', 'IL', 'OK', 'KY', 'IA', 'CA', 'VA', 'IL', 'MN', 'NY', 'IA', 'KY', 'IN', 'TX', 'CA', 'AL', 'CA', 'NC', 'CA', 'NY', 'PA', 'FL', 'PA', 'IA', 'IA', 'AL', 'CO', 'NY', 'TN', 'CA', 'OH', 'NY', 'KS', 'OH', 'WI', 'OH', 'LA', 'PA', 'CA', 'FL', 'KS', 'NY', 'MI', 'MI', 'OK', 'NC', 'WA', 'PA', 'WV', 'TN', 'CA', 'AZ', 'NC', 'IN', 'IL', 'VA', 'AL', 'NY', 'AR', 'CA', 'WV', 'UT', 'NY', 'AZ', 'CA', 'OK', 'LA', 'FL', 'TX', 'AA', 'IN', 'IA', 'MT', 'IA', 'NY', 'DC', 'AR', 'VA', 'SD', 'MN', 'TX', 'FL', 'CA', 'FL', 'GA', 'OH', 'WV', 'WA', 'WI', 'TX', 'CA', 'NM', 'NE', 'DC', 'CA', 'WV', 'NV', 'AZ', 'MT', 'MT', 'IL', 'OR', 'WI', 'PA', 'AR', 'TN', 'KY', 'FL', 'SD', 'NC', 'IN', 'MS', 'WY', 'CA', 'CO', 'CO', 'MO', 'MO', 'WY', 'TN', 'WA', 'MO', 'UT', 'IA', 'CO', 'KY', 'MS', 'OK', 'CO', 'AZ', 'AL', 'TN', 'MI', 'WI', 'CA', 'OR', 'CA', 'AL', 'GA', 'IL', 'TN', 'MT', 'MO', 'IL', 'UT', 'WA', 'OK', 'SC', 'TX', 'NC', 'MI', 'IA', 'LA', 'TX', 'VA', 'OK', 'OK', 'NM', 'NY', 'AR', 'FL', 'OH', 'CA', 'AA', 'CA', 'PA', 'KS', 'KS', 'AL', 'NY', 'ND', 'NY', 'NC', 'AA', 'IN', 'NY', 'CO', 'OH', 'AR', 'OK', 'AZ', 'MO', 'TX', 'NC', 'AL', 'TX', 'LA', 'GA', 'KS', 'NY', 'IA', 'WV', 'OR', 'TN', 'SC', 'MS', 'LA', 'WI', 'OR', 'DC', 'VA', 'MN', 'VA', 'TN', 'WV', 'MN', 'IL', 'KY', 'AA', 'WY', 'TX', 'MN', 'OH', 'IN', 'KY', 'ND', 'GA', 'OH', 'KY', 'NY', 'PA', 'CA', 'DC', 'WA', 'NC', 'NY', 'IL', 'TX', 'NM', 'LA', 'PA', 'NY', 'PA', 'NY', 'VA', 'GA', 'IN', 'NY', 'NM', 'VA', 'MO', 'GA', 'MS', 'TX', 'CA', 'NC', 'PA', 'TX', 'KY', 'NC', 'AR', 'FL', 'WI', 'VA', 'OR', 'FL', 'CO', 'TX', 'FL', 'IL', 'WA', 'CA', 'VA', 'NM', 'NY', 'IA', 'OH', 'AL', 'CA', 'PA', 'FL', 'OK', 'TX', 'MN', 'NE', 'OH', 'OH', 'AL', 'IN', 'TX', 'GA', 'MN', 'OK', 'AZ', 'KS', 'NC', 'IN', 'MD', 'AA', 'IN', 'IA', 'KS', 'MO', 'CA', 'FL', 'WA', 'DC', 'VA', 'TX', 'PA', 'IL', 'AL', 'IN', 'MT', 'AL', 'VA', 'AZ', 'MO', 'TX', 'PA', 'OH', 'MD', 'IL', 'KY', 'TX', 'NM', 'PA', 'PA', 'OK', 'PA', 'CO', 'CA', 'MI', 'AZ', 'NY', 'IL', 'AZ', 'NY', 'OH', 'IA', 'IA', 'PA', 'TX', 'TX', 'MI', 'NC', 'FL', 'NY', 'VA', 'VA', 'LA', 'MN', 'OK', 'OK', 'CA', 'WV', 'WI', 'IA', 'PA', 'NM', 'CO', 'NY', 'LA', 'NE', 'CA', 'WV', 'WI', 'KY', 'IL', 'AL', 'LA', 'IA', 'WV', 'SD', 'NE', 'OH', 'KY', 'PA', 'IA', 'NY', 'AR', 'AZ', 'IN', 'NM', 'NM', 'TX', 'PA', 'AZ', 'WV', 'CA', 'WY', 'FL', 'PA', 'PA', 'NC', 'KS', 'KS', 'NE', 'WA', 'NC', 'WA', 'TX', 'OR', 'NM', 'WY', 'AZ', 'IN', 'VA', 'IL', 'MO', 'AR', 'NY', 'CO', 'MS', 'PA', 'MN', 'NC', 'GA', 'TX', 'AL', 'NM', 'NY', 'SD', 'MS', 'VA', 'MN', 'CA', 'TX', 'IA', 'MI', 'WA', 'KY', 'WY', 'MN', 'KS', 'GA', 'MN', 'GA', 'UT', 'NV', 'OH', 'TX', 'NY', 'SC', 'VA', 'FL', 'LA', 'WV', 'TX', 'NC', 'MO', 'TX', 'CA', 'NY', 'NV', 'CO', 'KY', 'IL', 'WV', 'NC', 'DC', 'CA', 'SC', 'ND', 'NM', 'NY', 'MN', 'PA', 'CA', 'MT', 'MO', 'MT', 'IL', 'MN', 'NM', 'MN', 'PA', 'DC', 'CA', 'IL', 'CA', 'KY', 'MI', 'NY', 'VA', 'AR', 'MN', 'CA', 'NY', 'NE', 'LA', 'PA', 'NY', 'VA', 'PA', 'NM', 'OH', 'CA', 'IL', 'OK', 'MI', 'CO', 'AZ', 'NM', 'NM', 'CA', 'MO', 'AZ', 'SC', 'TX', 'OK', 'IL', 'TX', 'NC', 'CA', 'CO', 'AZ', 'IA', 'NE', 'FL', 'SD', 'CO', 'KY', 'AZ', 'LA', 'TX', 'WY', 'MD', 'IL', 'TX', 'WV', 'IA', 'GA', 'CO', 'MT', 'KS', 'NY', 'WI', 'IN', 'IL', 'KS', 'IL', 'KY', 'AL', 'OH', 'AR', 'IA', 'OH', 'FL', 'FL', 'TX', 'OH', 'KY', 'CA', 'GA', 'OR', 'WA', 'NY', 'MI', 'WV', 'NY', 'PA', 'NY', 'WY', 'TX', 'CA', 'NE', 'TX', 'IL', 'MO', 'ND', 'CA', 'AR', 'KS', 'PA', 'WY', 'UT', 'WY', 'KY', 'DC', 'GA', 'CA', 'PA', 'PA', 'MN', 'MO', 'AZ', 'NY', 'CA', 'MI', 'WI', 'IA', 'CA', 'VA', 'CA', 'KY', 'CA', 'KS', 'NY', 'AL', 'CA', 'NM', 'IN', 'TX', 'WV', 'IA', 'CA', 'IN', 'NM', 'NC', 'OR', 'KY', 'IL', 'TX', 'CO', 'MI', 'MT', 'NM', 'MN', 'WA', 'ND', 'PA', 'WY', 'NE', 'UT', 'WV', 'WV', 'LA', 'ND', 'IA', 'MN', 'TN', 'NC', 'TX', 'OR', 'AL', 'VA', 'MN', 'TN', 'GA', 'CO', 'MO', 'NM', 'PA', 'LA', 'OK', 'PA', 'TX', 'CO', 'MO', 'NM', 'MI', 'TX', 'NE', 'WA', 'OH', 'NV', 'UT', 'IL', 'PA', 'MT', 'KY', 'AL', 'WA', 'TX', 'UT', 'WV', 'PA', 'MT', 'PA', 'CO', 'MN', 'CA', 'WV', 'CA', 'SD', 'MI', 'TX', 'CA', 'KY', 'TX', 'SC', 'KS', 'MT', 'MO', 'PA', 'NY', 'NY', 'AZ', 'KY', 'TN', 'OR', 'TX', 'WA', 'WV', 'TX', 'WA', 'OH', 'WI', 'NY', 'MS', 'MI', 'MN', 'PA', 'UT', 'AZ', 'PA', 'AR', 'KS', 'MO', 'PA', 'OH', 'TX', 'LA', 'SC', 'WI', 'PA', 'KS', 'KS', 'FL', 'TX', 'PA', 'PA', 'PA', 'NY', 'NM', 'OH', 'NM', 'OH', 'NM', 'IL', 'TX', 'WV', 'LA', 'PA', 'AZ', 'VA', 'OH', 'NC', 'OK', 'IL', 'OK', 'MI', 'IL', 'OR', 'MO', 'CO', 'CO', 'MD', 'WY', 'MT', 'CA', 'MN', 'OK', 'TX', 'TX', 'DC', 'IL', 'TN', 'KY', 'MS', 'KY', 'IL', 'IA', 'NC', 'DC', 'AZ', 'TN', 'NY', 'CA', 'WA', 'AZ', 'CA', 'MT', 'CA', 'PA', 'WI', 'NY', 'SC', 'AL', 'MI', 'LA', 'MO', 'VA', 'WV', 'AL', 'MO', 'FL', 'UT', 'WA', 'MO', 'FL', 'AL', 'OR', 'PA', 'MT', 'AZ', 'NY', 'SD', 'TN', 'MI', 'IN', 'OR', 'CA', 'MN', 'AZ', 'WI', 'CA', 'NE', 'CO', 'NE', 'CA', 'LA', 'NY', 'TN', 'KY', 'OH', 'IA', 'VA', 'PA', 'IN', 'IL', 'KS', 'MO', 'WI', 'MN', 'IN', 'NY', 'NY', 'MO', 'CA', 'SD', 'AZ', 'CA', 'PA', 'PA', 'NY', 'IL', 'MN', 'LA', 'MI', 'CA', 'KY', 'NC']\n"
     ]
    }
   ],
   "source": [
    "len(def_states)\n",
    "print(def_states)"
   ]
  },
  {
   "cell_type": "code",
   "execution_count": 30,
   "metadata": {},
   "outputs": [],
   "source": [
    "hospital_creation['state']=def_states"
   ]
  },
  {
   "cell_type": "code",
   "execution_count": 31,
   "metadata": {},
   "outputs": [],
   "source": [
    "hospital_creation.drop(['partial zipcode'],axis='columns',inplace=True)\n"
   ]
  },
  {
   "cell_type": "code",
   "execution_count": 32,
   "metadata": {},
   "outputs": [
    {
     "data": {
      "text/html": [
       "<div>\n",
       "<style scoped>\n",
       "    .dataframe tbody tr th:only-of-type {\n",
       "        vertical-align: middle;\n",
       "    }\n",
       "\n",
       "    .dataframe tbody tr th {\n",
       "        vertical-align: top;\n",
       "    }\n",
       "\n",
       "    .dataframe thead th {\n",
       "        text-align: right;\n",
       "    }\n",
       "</style>\n",
       "<table border=\"1\" class=\"dataframe\">\n",
       "  <thead>\n",
       "    <tr style=\"text-align: right;\">\n",
       "      <th></th>\n",
       "      <th>id</th>\n",
       "      <th>gender</th>\n",
       "      <th>disease</th>\n",
       "      <th>decade of birth</th>\n",
       "      <th>state</th>\n",
       "    </tr>\n",
       "  </thead>\n",
       "  <tbody>\n",
       "    <tr>\n",
       "      <th>0</th>\n",
       "      <td>768d1a5f81d78235ef9ada30815bf0c2c87b26ae5a1ac5...</td>\n",
       "      <td>female</td>\n",
       "      <td>Alzheimer's disease</td>\n",
       "      <td>1950 s</td>\n",
       "      <td>WV</td>\n",
       "    </tr>\n",
       "    <tr>\n",
       "      <th>1</th>\n",
       "      <td>6c78ed178ed6ca5114c297973fbfaedd1b23300887fb45...</td>\n",
       "      <td>female</td>\n",
       "      <td>multiple sclerosis</td>\n",
       "      <td>1940 s</td>\n",
       "      <td>TX</td>\n",
       "    </tr>\n",
       "    <tr>\n",
       "      <th>2</th>\n",
       "      <td>cb21208609092da5322fdbdb6a3e26018500afa8f16cb4...</td>\n",
       "      <td>female</td>\n",
       "      <td>heart disease</td>\n",
       "      <td>1960 s</td>\n",
       "      <td>IA</td>\n",
       "    </tr>\n",
       "    <tr>\n",
       "      <th>3</th>\n",
       "      <td>d69531784d3a60fed7c33acd8019b0055038e4e0315a8c...</td>\n",
       "      <td>female</td>\n",
       "      <td>endometriosis</td>\n",
       "      <td>1940 s</td>\n",
       "      <td>WI</td>\n",
       "    </tr>\n",
       "    <tr>\n",
       "      <th>4</th>\n",
       "      <td>b083ca5d64492fceebf71428654cfe17ae2e2e740e56ef...</td>\n",
       "      <td>female</td>\n",
       "      <td>gastritis</td>\n",
       "      <td>1940 s</td>\n",
       "      <td>NE</td>\n",
       "    </tr>\n",
       "  </tbody>\n",
       "</table>\n",
       "</div>"
      ],
      "text/plain": [
       "                                                  id  gender  \\\n",
       "0  768d1a5f81d78235ef9ada30815bf0c2c87b26ae5a1ac5...  female   \n",
       "1  6c78ed178ed6ca5114c297973fbfaedd1b23300887fb45...  female   \n",
       "2  cb21208609092da5322fdbdb6a3e26018500afa8f16cb4...  female   \n",
       "3  d69531784d3a60fed7c33acd8019b0055038e4e0315a8c...  female   \n",
       "4  b083ca5d64492fceebf71428654cfe17ae2e2e740e56ef...  female   \n",
       "\n",
       "               disease decade of birth state  \n",
       "0  Alzheimer's disease          1950 s    WV  \n",
       "1   multiple sclerosis          1940 s    TX  \n",
       "2        heart disease          1960 s    IA  \n",
       "3        endometriosis          1940 s    WI  \n",
       "4            gastritis          1940 s    NE  "
      ]
     },
     "execution_count": 32,
     "metadata": {},
     "output_type": "execute_result"
    }
   ],
   "source": [
    "hospital_creation.head(5)"
   ]
  },
  {
   "cell_type": "code",
   "execution_count": 33,
   "metadata": {},
   "outputs": [
    {
     "data": {
      "text/plain": [
       "1869"
      ]
     },
     "execution_count": 33,
     "metadata": {},
     "output_type": "execute_result"
    }
   ],
   "source": [
    "duplicateRows = hospital_creation[hospital_creation.duplicated(['decade of birth', 'state','gender'],keep=False) ]\n",
    "\n",
    "len(duplicateRows)"
   ]
  },
  {
   "cell_type": "code",
   "execution_count": 34,
   "metadata": {},
   "outputs": [
    {
     "data": {
      "text/html": [
       "<div>\n",
       "<style scoped>\n",
       "    .dataframe tbody tr th:only-of-type {\n",
       "        vertical-align: middle;\n",
       "    }\n",
       "\n",
       "    .dataframe tbody tr th {\n",
       "        vertical-align: top;\n",
       "    }\n",
       "\n",
       "    .dataframe thead th {\n",
       "        text-align: right;\n",
       "    }\n",
       "</style>\n",
       "<table border=\"1\" class=\"dataframe\">\n",
       "  <thead>\n",
       "    <tr style=\"text-align: right;\">\n",
       "      <th></th>\n",
       "      <th>id</th>\n",
       "      <th>gender</th>\n",
       "      <th>disease</th>\n",
       "      <th>decade of birth</th>\n",
       "      <th>state</th>\n",
       "    </tr>\n",
       "  </thead>\n",
       "  <tbody>\n",
       "    <tr>\n",
       "      <th>0</th>\n",
       "      <td>768d1a5f81d78235ef9ada30815bf0c2c87b26ae5a1ac5...</td>\n",
       "      <td>female</td>\n",
       "      <td>Alzheimer's disease</td>\n",
       "      <td>1950 s</td>\n",
       "      <td>WV</td>\n",
       "    </tr>\n",
       "    <tr>\n",
       "      <th>1</th>\n",
       "      <td>6c78ed178ed6ca5114c297973fbfaedd1b23300887fb45...</td>\n",
       "      <td>female</td>\n",
       "      <td>multiple sclerosis</td>\n",
       "      <td>1940 s</td>\n",
       "      <td>TX</td>\n",
       "    </tr>\n",
       "    <tr>\n",
       "      <th>2</th>\n",
       "      <td>cb21208609092da5322fdbdb6a3e26018500afa8f16cb4...</td>\n",
       "      <td>female</td>\n",
       "      <td>heart disease</td>\n",
       "      <td>1960 s</td>\n",
       "      <td>IA</td>\n",
       "    </tr>\n",
       "    <tr>\n",
       "      <th>3</th>\n",
       "      <td>d69531784d3a60fed7c33acd8019b0055038e4e0315a8c...</td>\n",
       "      <td>female</td>\n",
       "      <td>endometriosis</td>\n",
       "      <td>1940 s</td>\n",
       "      <td>WI</td>\n",
       "    </tr>\n",
       "    <tr>\n",
       "      <th>4</th>\n",
       "      <td>b083ca5d64492fceebf71428654cfe17ae2e2e740e56ef...</td>\n",
       "      <td>female</td>\n",
       "      <td>gastritis</td>\n",
       "      <td>1940 s</td>\n",
       "      <td>NE</td>\n",
       "    </tr>\n",
       "  </tbody>\n",
       "</table>\n",
       "</div>"
      ],
      "text/plain": [
       "                                                  id  gender  \\\n",
       "0  768d1a5f81d78235ef9ada30815bf0c2c87b26ae5a1ac5...  female   \n",
       "1  6c78ed178ed6ca5114c297973fbfaedd1b23300887fb45...  female   \n",
       "2  cb21208609092da5322fdbdb6a3e26018500afa8f16cb4...  female   \n",
       "3  d69531784d3a60fed7c33acd8019b0055038e4e0315a8c...  female   \n",
       "4  b083ca5d64492fceebf71428654cfe17ae2e2e740e56ef...  female   \n",
       "\n",
       "               disease decade of birth state  \n",
       "0  Alzheimer's disease          1950 s    WV  \n",
       "1   multiple sclerosis          1940 s    TX  \n",
       "2        heart disease          1960 s    IA  \n",
       "3        endometriosis          1940 s    WI  \n",
       "4            gastritis          1940 s    NE  "
      ]
     },
     "execution_count": 34,
     "metadata": {},
     "output_type": "execute_result"
    }
   ],
   "source": [
    "duplicateRows.head(5)"
   ]
  },
  {
   "cell_type": "code",
   "execution_count": 35,
   "metadata": {},
   "outputs": [
    {
     "data": {
      "text/html": [
       "<div>\n",
       "<style scoped>\n",
       "    .dataframe tbody tr th:only-of-type {\n",
       "        vertical-align: middle;\n",
       "    }\n",
       "\n",
       "    .dataframe tbody tr th {\n",
       "        vertical-align: top;\n",
       "    }\n",
       "\n",
       "    .dataframe thead th {\n",
       "        text-align: right;\n",
       "    }\n",
       "</style>\n",
       "<table border=\"1\" class=\"dataframe\">\n",
       "  <thead>\n",
       "    <tr style=\"text-align: right;\">\n",
       "      <th></th>\n",
       "      <th>id</th>\n",
       "      <th>gender</th>\n",
       "      <th>disease</th>\n",
       "      <th>decade of birth</th>\n",
       "      <th>state</th>\n",
       "    </tr>\n",
       "  </thead>\n",
       "  <tbody>\n",
       "    <tr>\n",
       "      <th>0</th>\n",
       "      <td>768d1a5f81d78235ef9ada30815bf0c2c87b26ae5a1ac5...</td>\n",
       "      <td>female</td>\n",
       "      <td>Alzheimer's disease</td>\n",
       "      <td>1950 s</td>\n",
       "      <td>WV</td>\n",
       "    </tr>\n",
       "    <tr>\n",
       "      <th>1</th>\n",
       "      <td>6c78ed178ed6ca5114c297973fbfaedd1b23300887fb45...</td>\n",
       "      <td>female</td>\n",
       "      <td>multiple sclerosis</td>\n",
       "      <td>1940 s</td>\n",
       "      <td>TX</td>\n",
       "    </tr>\n",
       "    <tr>\n",
       "      <th>2</th>\n",
       "      <td>cb21208609092da5322fdbdb6a3e26018500afa8f16cb4...</td>\n",
       "      <td>female</td>\n",
       "      <td>heart disease</td>\n",
       "      <td>1960 s</td>\n",
       "      <td>IA</td>\n",
       "    </tr>\n",
       "    <tr>\n",
       "      <th>3</th>\n",
       "      <td>d69531784d3a60fed7c33acd8019b0055038e4e0315a8c...</td>\n",
       "      <td>female</td>\n",
       "      <td>endometriosis</td>\n",
       "      <td>1940 s</td>\n",
       "      <td>WI</td>\n",
       "    </tr>\n",
       "    <tr>\n",
       "      <th>4</th>\n",
       "      <td>b083ca5d64492fceebf71428654cfe17ae2e2e740e56ef...</td>\n",
       "      <td>female</td>\n",
       "      <td>gastritis</td>\n",
       "      <td>1940 s</td>\n",
       "      <td>NE</td>\n",
       "    </tr>\n",
       "    <tr>\n",
       "      <th>5</th>\n",
       "      <td>dce43f6f76bba6b938cf2661d41b0881b53ca2fd9b1c0b...</td>\n",
       "      <td>male</td>\n",
       "      <td>endometriosis</td>\n",
       "      <td>1930 s</td>\n",
       "      <td>TX</td>\n",
       "    </tr>\n",
       "    <tr>\n",
       "      <th>6</th>\n",
       "      <td>2335f565feff86a18b685e3f361d29c33d2e4df9ecc6e5...</td>\n",
       "      <td>female</td>\n",
       "      <td>multiple sclerosis</td>\n",
       "      <td>1940 s</td>\n",
       "      <td>FL</td>\n",
       "    </tr>\n",
       "    <tr>\n",
       "      <th>7</th>\n",
       "      <td>28efa72f2ba129de0d30d09788e659a5c4a538b649fdbe...</td>\n",
       "      <td>male</td>\n",
       "      <td>HIV/AIDS</td>\n",
       "      <td>1950 s</td>\n",
       "      <td>FL</td>\n",
       "    </tr>\n",
       "    <tr>\n",
       "      <th>8</th>\n",
       "      <td>23f5760b824582719c1a84e76826f53e07c3fca2713348...</td>\n",
       "      <td>male</td>\n",
       "      <td>skin cancer</td>\n",
       "      <td>1960 s</td>\n",
       "      <td>CA</td>\n",
       "    </tr>\n",
       "    <tr>\n",
       "      <th>9</th>\n",
       "      <td>a4815a141d823c02f49c64ba732b14486504cda54a9940...</td>\n",
       "      <td>female</td>\n",
       "      <td>Alzheimer's disease</td>\n",
       "      <td>1940 s</td>\n",
       "      <td>CA</td>\n",
       "    </tr>\n",
       "  </tbody>\n",
       "</table>\n",
       "</div>"
      ],
      "text/plain": [
       "                                                  id  gender  \\\n",
       "0  768d1a5f81d78235ef9ada30815bf0c2c87b26ae5a1ac5...  female   \n",
       "1  6c78ed178ed6ca5114c297973fbfaedd1b23300887fb45...  female   \n",
       "2  cb21208609092da5322fdbdb6a3e26018500afa8f16cb4...  female   \n",
       "3  d69531784d3a60fed7c33acd8019b0055038e4e0315a8c...  female   \n",
       "4  b083ca5d64492fceebf71428654cfe17ae2e2e740e56ef...  female   \n",
       "5  dce43f6f76bba6b938cf2661d41b0881b53ca2fd9b1c0b...    male   \n",
       "6  2335f565feff86a18b685e3f361d29c33d2e4df9ecc6e5...  female   \n",
       "7  28efa72f2ba129de0d30d09788e659a5c4a538b649fdbe...    male   \n",
       "8  23f5760b824582719c1a84e76826f53e07c3fca2713348...    male   \n",
       "9  a4815a141d823c02f49c64ba732b14486504cda54a9940...  female   \n",
       "\n",
       "               disease decade of birth state  \n",
       "0  Alzheimer's disease          1950 s    WV  \n",
       "1   multiple sclerosis          1940 s    TX  \n",
       "2        heart disease          1960 s    IA  \n",
       "3        endometriosis          1940 s    WI  \n",
       "4            gastritis          1940 s    NE  \n",
       "5        endometriosis          1930 s    TX  \n",
       "6   multiple sclerosis          1940 s    FL  \n",
       "7             HIV/AIDS          1950 s    FL  \n",
       "8          skin cancer          1960 s    CA  \n",
       "9  Alzheimer's disease          1940 s    CA  "
      ]
     },
     "execution_count": 35,
     "metadata": {},
     "output_type": "execute_result"
    }
   ],
   "source": [
    "final_dataset_hospitals=duplicateRows\n",
    "final_dataset_hospitals.head(10)"
   ]
  },
  {
   "cell_type": "code",
   "execution_count": 36,
   "metadata": {},
   "outputs": [],
   "source": [
    "clusters = final_dataset_hospitals.groupby(['gender', 'decade of birth','state']).disease.apply(list)\n"
   ]
  },
  {
   "cell_type": "code",
   "execution_count": 37,
   "metadata": {},
   "outputs": [
    {
     "name": "stdout",
     "output_type": "stream",
     "text": [
      "['gastritis', 'gastritis']\n"
     ]
    }
   ],
   "source": [
    "print(clusters[76])"
   ]
  },
  {
   "cell_type": "code",
   "execution_count": 38,
   "metadata": {},
   "outputs": [
    {
     "name": "stdout",
     "output_type": "stream",
     "text": [
      "lol\n"
     ]
    }
   ],
   "source": [
    "if len(set(clusters[0]))==2:\n",
    "    print(\"lol\")"
   ]
  },
  {
   "cell_type": "code",
   "execution_count": 39,
   "metadata": {},
   "outputs": [],
   "source": [
    "i=0\n",
    "diversity=[]\n",
    "while i<426:\n",
    "    diversity.append(len(set(clusters[i])))\n",
    "    i=1+i\n"
   ]
  },
  {
   "cell_type": "code",
   "execution_count": 40,
   "metadata": {},
   "outputs": [
    {
     "name": "stdout",
     "output_type": "stream",
     "text": [
      "[2, 4, 6, 7, 3, 2, 4, 3, 6, 4, 4, 2, 2, 5, 5, 2, 6, 2, 3, 5, 4, 7, 2, 3, 2, 5, 4, 8, 4, 4, 3, 7, 3, 4, 2, 2, 2, 3, 2, 6, 2, 8, 2, 3, 4, 7, 5, 3, 3, 6, 3, 8, 2, 5, 5, 3, 4, 4, 4, 2, 5, 4, 3, 4, 4, 3, 3, 3, 4, 2, 4, 4, 4, 2, 2, 2, 1, 6, 5, 4, 2, 3, 5, 2, 6, 3, 4, 2, 3, 2, 3, 8, 3, 3, 3, 4, 8, 6, 3, 5, 3, 2, 5, 5, 3, 3, 2, 6, 4, 2, 6, 2, 3, 5, 7, 2, 4, 6, 3, 2, 6, 1, 4, 6, 3, 2, 6, 5, 4, 3, 4, 4, 2, 2, 2, 2, 2, 4, 5, 5, 2, 4, 6, 3, 5, 2, 4, 3, 3, 1, 3, 6, 2, 3, 5, 2, 4, 3, 4, 2, 2, 3, 2, 4, 2, 9, 4, 4, 4, 2, 5, 3, 3, 3, 2, 3, 2, 2, 4, 3, 6, 2, 2, 2, 3, 4, 5, 2, 1, 4, 5, 5, 2, 2, 5, 4, 3, 2, 3, 2, 1, 1, 4, 1, 2, 2, 6, 3, 2, 3, 5, 2, 3, 2, 2, 5, 2, 2, 3, 2, 4, 2, 2, 2, 3, 3, 2, 5, 2, 3, 7, 3, 4, 4, 4, 3, 4, 9, 3, 4, 3, 4, 3, 3, 2, 5, 3, 2, 5, 5, 3, 2, 6, 2, 4, 9, 4, 5, 3, 2, 2, 2, 3, 3, 6, 3, 3, 4, 3, 2, 3, 2, 8, 2, 2, 4, 2, 4, 4, 3, 4, 2, 2, 2, 3, 6, 4, 3, 2, 5, 2, 5, 3, 3, 2, 5, 4, 5, 5, 3, 4, 4, 2, 5, 5, 6, 3, 2, 5, 5, 4, 4, 4, 2, 4, 5, 2, 2, 2, 4, 4, 4, 2, 5, 5, 4, 7, 5, 9, 2, 5, 5, 2, 3, 3, 3, 5, 10, 2, 3, 4, 2, 4, 3, 3, 3, 4, 2, 3, 6, 4, 2, 6, 4, 4, 4, 2, 2, 6, 7, 3, 4, 6, 3, 3, 2, 2, 7, 3, 2, 4, 2, 3, 3, 4, 3, 2, 2, 4, 4, 2, 3, 6, 2, 6, 2, 5, 1, 8, 2, 5, 3, 2, 2, 3, 4, 2, 2, 3, 3, 4, 5, 2, 1, 1, 3, 3, 4, 3, 2, 7, 6, 2, 2, 4, 2, 2, 4, 2, 3, 2, 3, 2, 2, 2, 2]\n"
     ]
    }
   ],
   "source": [
    "print(diversity)"
   ]
  },
  {
   "cell_type": "code",
   "execution_count": 41,
   "metadata": {},
   "outputs": [],
   "source": [
    "non_diverse_clusters = [i for i, e in enumerate(diversity) if e == 1]"
   ]
  },
  {
   "cell_type": "code",
   "execution_count": 42,
   "metadata": {},
   "outputs": [
    {
     "name": "stdout",
     "output_type": "stream",
     "text": [
      "[76, 121, 149, 188, 200, 201, 203, 387, 403, 404]\n"
     ]
    }
   ],
   "source": [
    "print(non_diverse_clusters)"
   ]
  },
  {
   "cell_type": "code",
   "execution_count": null,
   "metadata": {},
   "outputs": [],
   "source": []
  },
  {
   "cell_type": "code",
   "execution_count": null,
   "metadata": {},
   "outputs": [],
   "source": []
  }
 ],
 "metadata": {
  "kernelspec": {
   "display_name": "Python 3",
   "language": "python",
   "name": "python3"
  },
  "language_info": {
   "codemirror_mode": {
    "name": "ipython",
    "version": 3
   },
   "file_extension": ".py",
   "mimetype": "text/x-python",
   "name": "python",
   "nbconvert_exporter": "python",
   "pygments_lexer": "ipython3",
   "version": "3.8.3"
  }
 },
 "nbformat": 4,
 "nbformat_minor": 4
}
