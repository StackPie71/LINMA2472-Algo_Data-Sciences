{
 "cells": [
  {
   "cell_type": "markdown",
   "metadata": {},
   "source": [
    "# Anonymization: Balancing the use of data in aggregate with protecting people’s privacy\n",
    "\n",
    "## Pseudonymization: The removal of direct identifiers\n",
    "1. We want a deterministic function (same inputs are always mapped to same\n",
    "outputs).\n",
    "2. We want the possible outputs to all have the same length (for simplicity)\n",
    "3. We want collisions to be very unlikely (impossible is too much to ask).\n",
    "4. We want a function that is fast to compute (i.e. for any input it’s easy to\n",
    "compute its output, for simplicity).\n",
    "5. We want a function that is computationally infeasible to invert (i.e. for anyoutput it’s hard to compute its input). A one-way function.\n",
    "\n",
    "These are what a “cryptographic hash function” does (when we say “hash\n",
    "function” in this class we mean cryptographic hash function)."
   ]
  },
  {
   "cell_type": "markdown",
   "metadata": {},
   "source": [
    "### hash function\n",
    "h(k) = ⎣m (k a –⎣k a⎦)⎦\n",
    "with k the input and a and m constant.\n",
    "\n",
    "https://docs.python.org/3/library/hashlib.html"
   ]
  },
  {
   "cell_type": "code",
   "execution_count": 226,
   "metadata": {},
   "outputs": [],
   "source": [
    "import pandas as pd\n",
    "import numpy as np\n",
    "import matplotlib.pyplot as plt\n",
    "import math\n",
    "\n",
    "from hashlib import blake2b\n",
    "from hashlib import md5\n"
   ]
  },
  {
   "cell_type": "code",
   "execution_count": 92,
   "metadata": {},
   "outputs": [
    {
     "data": {
      "text/plain": [
       "'6ff843ba685842aa82031d3f53c48b66326df7639a63d128974c5c14f31a0f33343a8c65551134ed1ae0f2b0dd2bb495dc81039e3eeb0aa1bb0388bbeac29183'"
      ]
     },
     "execution_count": 92,
     "metadata": {},
     "output_type": "execute_result"
    }
   ],
   "source": [
    "# blake2b is a fast hash function with the possibility to add salt directly inside de call of the function\n",
    "h = blake2b()\n",
    "h.update(b'Hello world')\n",
    "h.hexdigest()"
   ]
  },
  {
   "cell_type": "code",
   "execution_count": 93,
   "metadata": {},
   "outputs": [],
   "source": [
    "# Fonctione présenté dans les slides du cours\n",
    "def create_lookup_table(N):\n",
    "    table = {}\n",
    "    for id in range(10**N):\n",
    "        h = md5(str(id).encode()).hexdigest()\n",
    "        table[h] = id\n",
    "    return table"
   ]
  },
  {
   "cell_type": "code",
   "execution_count": 94,
   "metadata": {},
   "outputs": [
    {
     "data": {
      "text/plain": [
       "{'cfcd208495d565ef66e7dff9f98764da': 0,\n",
       " 'c4ca4238a0b923820dcc509a6f75849b': 1,\n",
       " 'c81e728d9d4c2f636f067f89cc14862c': 2,\n",
       " 'eccbc87e4b5ce2fe28308fd9f2a7baf3': 3,\n",
       " 'a87ff679a2f3e71d9181a67b7542122c': 4,\n",
       " 'e4da3b7fbbce2345d7772b0674a318d5': 5,\n",
       " '1679091c5a880faf6fb5e6087eb1b2dc': 6,\n",
       " '8f14e45fceea167a5a36dedd4bea2543': 7,\n",
       " 'c9f0f895fb98ab9159f51fd0297e236d': 8,\n",
       " '45c48cce2e2d7fbdea1afc51c7c6ad26': 9}"
      ]
     },
     "execution_count": 94,
     "metadata": {},
     "output_type": "execute_result"
    }
   ],
   "source": [
    "create_lookup_table(1)"
   ]
  },
  {
   "cell_type": "code",
   "execution_count": 95,
   "metadata": {},
   "outputs": [],
   "source": [
    "data = pd.read_csv(\"dataset.csv\")\n",
    "ids = data.head(10)[\"id\"]"
   ]
  },
  {
   "cell_type": "code",
   "execution_count": 96,
   "metadata": {},
   "outputs": [
    {
     "data": {
      "text/plain": [
       "{'Amelia Morrow': 'd2847521058786f0977d871e1d28dd3e19f26295bbcced0ba4eafb64e5940c42',\n",
       " 'Lillian Cole': '3cf0d9de236313f2e3136ba18e046ada469a986f6828b5e46888289d289e30a8',\n",
       " 'Lillian Simpson': '365218d17c0b0b4dc25d11c663cd1fdcbed5d080189682fda24006737d4fc3f5',\n",
       " 'Avery Richards': '480bb709ee3709a1c42eb0d9de89f626594d72265e101bf326a03072c3f47e7c',\n",
       " 'Sophia Alvarado': '261cd6318baf3f76475f207219a18059a32696e991600135308ea97cc99c1a91',\n",
       " 'Maxwell Brock': 'd0cc541cc86a0b1487bc3dfee87e6bbaa8e4fc400c7bfa33227ea18c0fe3321a',\n",
       " 'Taylor Harris': 'fd9b0997993b227858b8f04160891ec7e6d6b48e3df3bca463adb9f3bbfe37ed',\n",
       " 'Declan Gomez': 'd8d5de53a2c20fd26235024469b57060ae2d160d3f9f5b5fe5584f1916c1dd43',\n",
       " 'Connor Lynch': '305120f0526abbd042b5d184e0acbb53170aaafe140785183834b07bf7b79cb5',\n",
       " 'Aurora Cole': '96ad4b0348f7d1346a61040a61b755329926e4ab580e186f061e2bd4f4885c21'}"
      ]
     },
     "execution_count": 96,
     "metadata": {},
     "output_type": "execute_result"
    }
   ],
   "source": [
    "# J'ai essayé la fonction sur notre data set, ça a l'air pas mal ! \n",
    "h = blake2b(digest_size=32, salt=b'LINMA2472')\n",
    "table = {}\n",
    "for id in ids:\n",
    "    id_byte = bytes(id, encoding='utf8')\n",
    "    h.update(id_byte)\n",
    "    table[id] = h.hexdigest()\n",
    "table"
   ]
  },
  {
   "cell_type": "markdown",
   "metadata": {},
   "source": [
    "### Fonctions de modif du data set pour le case 1 :\n",
    "\"Study the impact of stree and high-pressure invironments on one's health'"
   ]
  },
  {
   "cell_type": "code",
   "execution_count": 97,
   "metadata": {},
   "outputs": [],
   "source": [
    "def hash_ids(ids, salt=b'azerty', digest_size=32):\n",
    "    \"\"\"\n",
    "    Function that return a list of 'hashed' ids\n",
    "    Input : ids = list of string to hash\n",
    "    salt=b'azerty' by default, max length=16 bytes\n",
    "    digest_size=32 by default, max size = 64\n",
    "    \"\"\"\n",
    "    h = blake2b(digest_size=digest_size, salt=salt)\n",
    "    ids_hashed = []\n",
    "    for id in ids:\n",
    "        id_byte = bytes(id, encoding='utf8')\n",
    "        h.update(id_byte)\n",
    "        ids_hashed.append(h.hexdigest())\n",
    "    return ids_hashed"
   ]
  },
  {
   "cell_type": "code",
   "execution_count": 98,
   "metadata": {},
   "outputs": [],
   "source": [
    "def dob_to_yob(dobs):\n",
    "    \"\"\"\n",
    "    Function that convert the date of birth to just a year of birth\n",
    "    \"\"\"\n",
    "    yobs = []\n",
    "    for dob in dobs:\n",
    "        dob_list = list(dob)\n",
    "        yob = str(dob_list[-4]+dob_list[-3]+dob_list[-2]+dob_list[-1])\n",
    "        yobs.append(yob)\n",
    "    return yobs"
   ]
  },
  {
   "cell_type": "code",
   "execution_count": 99,
   "metadata": {},
   "outputs": [],
   "source": [
    "def zip_to_state(zips):\n",
    "    \"\"\"\n",
    "    Convert a list of zipcode to a list of states\n",
    "    \"\"\"\n",
    "    states = [np.nan]*len(zips)\n",
    "    zip_code = pd.read_csv(\"zip_code_database.csv\")\n",
    "    interest = zip_code[['zip', 'state']]\n",
    "    index = 0\n",
    "    for zipcode in zips:\n",
    "        counter = 0\n",
    "        for zip_state in interest.iloc[:,0]:\n",
    "            if zipcode == zip_state:\n",
    "                states[index] = (interest.iloc[counter, 1])\n",
    "            counter += 1\n",
    "        index += 1\n",
    "    return states"
   ]
  },
  {
   "cell_type": "markdown",
   "metadata": {},
   "source": [
    "### Cleanage du data set"
   ]
  },
  {
   "cell_type": "code",
   "execution_count": 327,
   "metadata": {
    "scrolled": true
   },
   "outputs": [
    {
     "name": "stdout",
     "output_type": "stream",
     "text": [
      "(1986, 8)\n"
     ]
    }
   ],
   "source": [
    "stress_impact = pd.read_csv(\"dataset.csv\")\n",
    "\n",
    "# Chunk to delete undesired row after clustering test\n",
    "rows_to_delete = [1105, 1643, 465, 1881, 1182, 1753, 1147, 1286, 372, 922, 441, 1087, 3, 1827]\n",
    "index_to_delete = []\n",
    "for row in rows_to_delete:\n",
    "    index_to_delete.append(row-1)\n",
    "stress_impact = stress_impact.drop(stress_impact.index [rows_to_delete])\n",
    "\n",
    "# Chunk that use the function 'has_ids' to return an hashed id's list\n",
    "ids = stress_impact[\"id\"]\n",
    "hashed_ids = hash_ids(ids)\n",
    "stress_impact[\"id\"] = hashed_ids\n",
    "\n",
    "# Chunk that transforms date of birth in decade of birth\n",
    "stress_impact['partial_dob'] = stress_impact['dob'].astype(str).str[:-1]\n",
    "stress_impact['decade of birth'] = stress_impact['partial_dob'].astype(str).str[-3:]\n",
    "stress_impact['decade of birth'] =stress_impact['decade of birth'].astype(str) +'0 s'\n",
    "stress_impact.drop(['dob'], axis='columns', inplace=True)\n",
    "\n",
    "# Chunk that delete the useless rows\n",
    "stress_impact.drop(['ancestry'], axis='columns', inplace=True)\n",
    "stress_impact.drop(['number_vehicles'], axis='columns', inplace=True)\n",
    "stress_impact.drop(['education'], axis='columns', inplace=True)\n",
    "stress_impact.drop(['zipcode'], axis='columns', inplace=True)\n",
    "stress_impact.drop(['partial_dob'], axis='columns', inplace=True)\n",
    "stress_impact.drop(['gender'], axis='columns', inplace=True)\n",
    "print(stress_impact.shape)\n",
    "# Chunk that group the number of children in interval\n",
    "replace_child = ['0', '1-2','1-2', '3-4-5', '3-4-5', '3-4-5', '7-8-9', '7-8-9', '7-8-9']\n",
    "new_child = ['']*len(stress_impact)\n",
    "children = stress_impact['children']\n",
    "count = 0\n",
    "for child in children.iloc[:]:\n",
    "    new_child[count] = replace_child[child]\n",
    "    count += 1\n",
    "stress_impact['children'] = new_child\n",
    "\n",
    "# Chunk that group the commute time in interval\n",
    "ref_commute = ['0', '0-1.00', '1.00<', '1.00<', '1.00<']\n",
    "new_commute = ['']*len(stress_impact)\n",
    "commutes = stress_impact['commute_time']\n",
    "count = 0\n",
    "for commu in commutes.iloc[:]:\n",
    "    new_commute[count] = ref_commute[math.ceil(commu)]\n",
    "    count += 1 \n",
    "stress_impact['commute_time'] = new_commute\n",
    "\n",
    "# Chunk that delete unique rows\n",
    "stress_impact = stress_impact[stress_impact.duplicated(['employment', 'children','marital_status', 'commute_time', 'accommodation', 'decade of birth'],keep=False) ]\n",
    "\n",
    "# Le data set est clean\n",
    "stress_impact.to_csv('stress_impact_health.csv', index = True) "
   ]
  },
  {
   "cell_type": "code",
   "execution_count": 320,
   "metadata": {},
   "outputs": [
    {
     "data": {
      "text/plain": [
       "[]"
      ]
     },
     "execution_count": 320,
     "metadata": {},
     "output_type": "execute_result"
    }
   ],
   "source": [
    "# Chunk that give the undesired rows\n",
    "clusters = stress_impact.groupby(['employment', 'children','marital_status', 'commute_time', 'accommodation', 'decade of birth']).disease.apply(list)\n",
    "i=0\n",
    "diversity=[]\n",
    "while i<274:\n",
    "    diversity.append(len(set(clusters[i])))\n",
    "    i=1+i\n",
    "non_diverse_clusters = [i for i, e in enumerate(diversity) if e == 1]\n",
    "non_diverse_clusters"
   ]
  },
  {
   "cell_type": "code",
   "execution_count": 281,
   "metadata": {},
   "outputs": [
    {
     "data": {
      "text/plain": [
       "employment  children  marital_status  commute_time  accommodation  decade of birth\n",
       "Retired     1-2       married         0             Rent room      1940 s             [endometriosis, endometriosis]\n",
       "Name: disease, dtype: object"
      ]
     },
     "execution_count": 281,
     "metadata": {},
     "output_type": "execute_result"
    }
   ],
   "source": [
    "clusters[178:179]"
   ]
  },
  {
   "cell_type": "code",
   "execution_count": 308,
   "metadata": {},
   "outputs": [
    {
     "data": {
      "text/plain": [
       "3       d69531784d3a60fed7c33acd8019b0055038e4e0315a8c...\n",
       "1827    4feaa1cb24e8861a6c03b40eafad045706949308a505d4...\n",
       "Name: id, dtype: object"
      ]
     },
     "execution_count": 308,
     "metadata": {},
     "output_type": "execute_result"
    }
   ],
   "source": [
    "# On supprime manuellement les lignes présents dans ces clusters\n",
    "to_delete = stress_impact.loc[(stress_impact['employment'] == 'Retired') & \n",
    "                  (stress_impact['children'] == '1-2') &\n",
    "                  (stress_impact['marital_status']== 'married') &\n",
    "                  (stress_impact['commute_time']== '0') &\n",
    "                  (stress_impact['accommodation']== 'Rent room') &\n",
    "                  (stress_impact['decade of birth']== '1940 s')]\n",
    "to_delete['id']"
   ]
  },
  {
   "cell_type": "code",
   "execution_count": null,
   "metadata": {},
   "outputs": [],
   "source": [
    "def bad_clusters_killer(dataset, columns_of_interest):\n",
    "    clusters = dataset.groupby(columns_of_interest).disease.apply(list)\n",
    "    \n",
    "    i=0\n",
    "    diversity=[]\n",
    "    while i<len(clusters):\n",
    "        diversity.append(len(set(clusters[i])))\n",
    "        i=1+i\n",
    "    \n",
    "    non_diverse_clusters = [i for i, e in enumerate(diversity) if e == 1]\n",
    "    \n",
    "    for non_div in non_diverse_clusters"
   ]
  },
  {
   "cell_type": "markdown",
   "metadata": {},
   "source": [
    "### Tests en tout genre"
   ]
  },
  {
   "cell_type": "code",
   "execution_count": 185,
   "metadata": {},
   "outputs": [
    {
     "data": {
      "text/plain": [
       "array(['Retired', 'Employed', 'Unemployed', 'Student'], dtype=object)"
      ]
     },
     "execution_count": 185,
     "metadata": {},
     "output_type": "execute_result"
    }
   ],
   "source": [
    "employ = stress_impact['employment']\n",
    "employ.unique()"
   ]
  },
  {
   "cell_type": "code",
   "execution_count": 186,
   "metadata": {},
   "outputs": [
    {
     "data": {
      "text/plain": [
       "array([2, 1, 4, 0, 3, 5, 6, 7, 8], dtype=int64)"
      ]
     },
     "execution_count": 186,
     "metadata": {},
     "output_type": "execute_result"
    }
   ],
   "source": [
    "child = stress_impact['children']\n",
    "child.unique()"
   ]
  },
  {
   "cell_type": "code",
   "execution_count": 187,
   "metadata": {},
   "outputs": [
    {
     "data": {
      "text/plain": [
       "array(['married', 'divorced', 'widowed', 'single'], dtype=object)"
      ]
     },
     "execution_count": 187,
     "metadata": {},
     "output_type": "execute_result"
    }
   ],
   "source": [
    "marital_status = stress_impact['marital_status']\n",
    "marital_status.unique()"
   ]
  },
  {
   "cell_type": "code",
   "execution_count": 188,
   "metadata": {},
   "outputs": [
    {
     "data": {
      "text/plain": [
       "array([0.  , 0.1 , 2.1 , 0.43, 1.43, 0.77, 3.43, 1.77, 1.1 , 3.1 , 2.43,\n",
       "       2.77])"
      ]
     },
     "execution_count": 188,
     "metadata": {},
     "output_type": "execute_result"
    }
   ],
   "source": [
    "commute_time = stress_impact['commute_time']\n",
    "commute_time.unique()"
   ]
  },
  {
   "cell_type": "code",
   "execution_count": 189,
   "metadata": {},
   "outputs": [
    {
     "data": {
      "text/plain": [
       "array(['Own house', 'Rent flat', 'Rent room', 'Own flat', 'Rent house'],\n",
       "      dtype=object)"
      ]
     },
     "execution_count": 189,
     "metadata": {},
     "output_type": "execute_result"
    }
   ],
   "source": [
    "accommodation = stress_impact['accommodation']\n",
    "accommodation.unique()"
   ]
  },
  {
   "cell_type": "code",
   "execution_count": 190,
   "metadata": {
    "scrolled": true
   },
   "outputs": [
    {
     "data": {
      "text/plain": [
       "<BarContainer object of 6 artists>"
      ]
     },
     "execution_count": 190,
     "metadata": {},
     "output_type": "execute_result"
    },
    {
     "data": {
      "image/png": "[encoded data removed]",
      "text/plain": [
       "<Figure size 432x288 with 1 Axes>"
      ]
     },
     "metadata": {
      "needs_background": "light"
     },
     "output_type": "display_data"
    }
   ],
   "source": [
    "stress_impact = pd.read_csv(\"dataset.csv\")\n",
    "\n",
    "ancesters = stress_impact['ancestry']\n",
    "africa = 0\n",
    "asia = 0\n",
    "europe = 0\n",
    "north_america = 0\n",
    "oceania = 0\n",
    "south_america = 0\n",
    "for ances in ancesters:\n",
    "    if ances == 'Africa':\n",
    "        africa += 1\n",
    "    elif ances == 'North America':\n",
    "        north_america += 1\n",
    "    elif ances == 'Asia':\n",
    "        asia += 1\n",
    "    elif ances == 'Europe':\n",
    "        europe += 1\n",
    "    elif ances == 'Oceania':\n",
    "        oceania += 1\n",
    "    elif ances == 'South America':\n",
    "        south_america += 1\n",
    "        \n",
    "origins = [africa, asia, europe, north_america, oceania, south_america]\n",
    "plt.bar(['Africa', 'Asia', 'Europe', 'North America', 'Oceania', 'South America'], origins)"
   ]
  },
  {
   "cell_type": "code",
   "execution_count": 232,
   "metadata": {},
   "outputs": [
    {
     "data": {
      "text/plain": [
       "1767"
      ]
     },
     "execution_count": 232,
     "metadata": {},
     "output_type": "execute_result"
    }
   ],
   "source": [
    "duplicateRows = stress_impact[stress_impact.duplicated(['employment', 'children','marital_status', 'commute_time', 'accommodation', 'year_of_birth'],keep=False) ]\n",
    "len(duplicateRows)"
   ]
  },
  {
   "cell_type": "code",
   "execution_count": 258,
   "metadata": {},
   "outputs": [
    {
     "data": {
      "text/plain": [
       "employment  children  marital_status  commute_time  accommodation  year_of_birth\n",
       "Employed    0         married         1.00<         Own flat       1990 s           [Alzheimer's disease, skin cancer, endometriosis]\n",
       "                      single          0-1.00        Own flat       1960 s              [Alzheimer's disease, hypertension, gastritis]\n",
       "                                                                   1980 s                               [heart disease, hypertension]\n",
       "                                                                   1990 s                [hypertension, heart disease, heart disease]\n",
       "                                                    Own house      1960 s                               [heart disease, hypertension]\n",
       "                                                                                                          ...                        \n",
       "Unemployed  1-2       widowed         0             Own flat       1970 s                              [endometriosis, schizophrenia]\n",
       "                                                    Rent flat      1950 s                   [multiple sclerosis, Alzheimer's disease]\n",
       "            3-4-5     married         0             Rent house     1950 s                                   [HIV/AIDS, schizophrenia]\n",
       "                                                                   1960 s                             [HIV/AIDS, Alzheimer's disease]\n",
       "                                                                   1970 s              [HIV/AIDS, kidney disease, multiple sclerosis]\n",
       "Name: disease, Length: 281, dtype: object"
      ]
     },
     "execution_count": 258,
     "metadata": {},
     "output_type": "execute_result"
    }
   ],
   "source": [
    "clusters = stress_impact.groupby(['employment', 'children','marital_status', 'commute_time', 'accommodation', 'year_of_birth']).disease.apply(list)\n",
    "clusters"
   ]
  },
  {
   "cell_type": "code",
   "execution_count": null,
   "metadata": {},
   "outputs": [],
   "source": [
    "stress_impact.loc[(stress_impact['gender'] == 'female') & (stress_impact['state'] == 'NE') & (stress_impact['decade of birth']== '1950 s')]"
   ]
  }
 ],
 "metadata": {
  "kernelspec": {
   "display_name": "Python 3",
   "language": "python",
   "name": "python3"
  },
  "language_info": {
   "codemirror_mode": {
    "name": "ipython",
    "version": 3
   },
   "file_extension": ".py",
   "mimetype": "text/x-python",
   "name": "python",
   "nbconvert_exporter": "python",
   "pygments_lexer": "ipython3",
   "version": "3.8.3"
  }
 },
 "nbformat": 4,
 "nbformat_minor": 4
}
